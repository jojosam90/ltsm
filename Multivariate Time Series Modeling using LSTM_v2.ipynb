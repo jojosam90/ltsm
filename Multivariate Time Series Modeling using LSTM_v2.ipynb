{
  "cells": [
    {
      "cell_type": "markdown",
      "metadata": {
        "id": "view-in-github",
        "colab_type": "text"
      },
      "source": [
        "<a href=\"https://colab.research.google.com/github/jojosam90/ltsm/blob/main/Multivariate%20Time%20Series%20Modeling%20using%20LSTM_v2.ipynb\" target=\"_parent\"><img src=\"https://colab.research.google.com/assets/colab-badge.svg\" alt=\"Open In Colab\"/></a>"
      ]
    },
    {
      "cell_type": "code",
      "source": [
        "from google.colab import drive\n",
        "drive.mount('/content/drive')"
      ],
      "metadata": {
        "colab": {
          "base_uri": "https://localhost:8080/"
        },
        "id": "cxHproEHcPQJ",
        "outputId": "9b89f8a5-532b-4d80-dd81-7f7bc9f19225"
      },
      "execution_count": 374,
      "outputs": [
        {
          "output_type": "stream",
          "name": "stdout",
          "text": [
            "Drive already mounted at /content/drive; to attempt to forcibly remount, call drive.mount(\"/content/drive\", force_remount=True).\n"
          ]
        }
      ]
    },
    {
      "cell_type": "code",
      "source": [
        "import pandas as pd\n",
        "from pandas import DataFrame\n",
        "import matplotlib as mpl\n",
        "import matplotlib.pyplot as plt\n",
        "from sklearn.model_selection import train_test_split\n",
        "from keras.preprocessing.sequence import TimeseriesGenerator\n",
        "from sklearn.preprocessing import MinMaxScaler, StandardScaler\n",
        "import tensorflow as tf\n",
        "import datetime\n",
        "import numpy as np\n",
        "\n",
        "mpl.rcParams['figure.figsize'] = (10,8)\n",
        "mpl.rcParams['axes.grid'] = False"
      ],
      "metadata": {
        "id": "E1mQ48twcSJx"
      },
      "execution_count": 375,
      "outputs": []
    },
    {
      "cell_type": "code",
      "source": [
        "df = pd.read_csv('/content/drive/MyDrive/dataset/Energy/Year 2017.csv')"
      ],
      "metadata": {
        "id": "HnAKlBbcc9Zw"
      },
      "execution_count": 376,
      "outputs": []
    },
    {
      "cell_type": "code",
      "source": [
        "df"
      ],
      "metadata": {
        "colab": {
          "base_uri": "https://localhost:8080/",
          "height": 468
        },
        "id": "uQmdG6SfdCxN",
        "outputId": "6d751fdb-c5ab-4341-e55e-9abd2370b3be"
      },
      "execution_count": 377,
      "outputs": [
        {
          "output_type": "execute_result",
          "data": {
            "text/plain": [
              "         _id  CP ID  Connector           Start Date Start Time  \\\n",
              "0          1  51519          2  2017-08-31T00:00:00      22:12   \n",
              "1          2  51250          1  2017-08-31T00:00:00      22:01   \n",
              "2          3  50575          2  2017-08-31T00:00:00      21:21   \n",
              "3          4  51516          2  2017-08-31T00:00:00      20:43   \n",
              "4          5  50994          2  2017-08-31T00:00:00      19:50   \n",
              "...      ...    ...        ...                  ...        ...   \n",
              "13671  13672  50745          2  2016-01-09T00:00:00      09:22   \n",
              "13672  13673  50281          1  2016-01-09T00:00:00      08:54   \n",
              "13673  13674  50285          1  2016-01-09T00:00:00      08:22   \n",
              "13674  13675  50281          2  2016-01-09T00:00:00      07:51   \n",
              "13675  13676  50994          1  2016-01-09T00:00:00      07:21   \n",
              "\n",
              "                  End Date End Time  Total kWh  \\\n",
              "0      2017-08-31T00:00:00    23:11     18.270   \n",
              "1      2017-08-31T00:00:00    22:31     19.450   \n",
              "2      2017-08-31T00:00:00    21:59     19.710   \n",
              "3      2017-08-31T00:00:00    21:03      9.840   \n",
              "4      2017-08-31T00:00:00    20:50     14.170   \n",
              "...                    ...      ...        ...   \n",
              "13671  2016-01-09T00:00:00    09:37      3.580   \n",
              "13672  2016-01-09T00:00:00    16:37     10.380   \n",
              "13673  2016-01-09T00:00:00    14:32     13.930   \n",
              "13674  2016-01-09T00:00:00    09:01      3.870   \n",
              "13675  2016-01-09T00:00:00    07:27      2.084   \n",
              "\n",
              "                                        Site                         Model  \n",
              "0                 Broxden Park & Ride, Perth      APT Triple Rapid Charger  \n",
              "1      Crown Inn Wynd Car Park, Auchterarder  Siemens Triple Rapid Charger  \n",
              "2                 South Inch Car Park, Perth      APT Triple Rapid Charger  \n",
              "3                      Kinross Park and Ride      APT Triple Rapid Charger  \n",
              "4        Leslie Street Car Park, Blairgowrie      APT Triple Rapid Charger  \n",
              "...                                      ...                           ...  \n",
              "13671                  Kinross Park and Ride      APT Triple Rapid Charger  \n",
              "13672     Rie-Achan Road Car Park, Pitlochry          APT 22kW Dual Outlet  \n",
              "13673                    Broxden Park & Ride          APT 22kW Dual Outlet  \n",
              "13674     Rie-Achan Road Car Park, Pitlochry          APT 22kW Dual Outlet  \n",
              "13675    Leslie Street Car Park, Blairgowrie      APT Triple Rapid Charger  \n",
              "\n",
              "[13676 rows x 10 columns]"
            ],
            "text/html": [
              "\n",
              "  <div id=\"df-848cdd9f-04a8-4394-81c3-159ceb6e2e22\">\n",
              "    <div class=\"colab-df-container\">\n",
              "      <div>\n",
              "<style scoped>\n",
              "    .dataframe tbody tr th:only-of-type {\n",
              "        vertical-align: middle;\n",
              "    }\n",
              "\n",
              "    .dataframe tbody tr th {\n",
              "        vertical-align: top;\n",
              "    }\n",
              "\n",
              "    .dataframe thead th {\n",
              "        text-align: right;\n",
              "    }\n",
              "</style>\n",
              "<table border=\"1\" class=\"dataframe\">\n",
              "  <thead>\n",
              "    <tr style=\"text-align: right;\">\n",
              "      <th></th>\n",
              "      <th>_id</th>\n",
              "      <th>CP ID</th>\n",
              "      <th>Connector</th>\n",
              "      <th>Start Date</th>\n",
              "      <th>Start Time</th>\n",
              "      <th>End Date</th>\n",
              "      <th>End Time</th>\n",
              "      <th>Total kWh</th>\n",
              "      <th>Site</th>\n",
              "      <th>Model</th>\n",
              "    </tr>\n",
              "  </thead>\n",
              "  <tbody>\n",
              "    <tr>\n",
              "      <th>0</th>\n",
              "      <td>1</td>\n",
              "      <td>51519</td>\n",
              "      <td>2</td>\n",
              "      <td>2017-08-31T00:00:00</td>\n",
              "      <td>22:12</td>\n",
              "      <td>2017-08-31T00:00:00</td>\n",
              "      <td>23:11</td>\n",
              "      <td>18.270</td>\n",
              "      <td>Broxden Park &amp; Ride, Perth</td>\n",
              "      <td>APT Triple Rapid Charger</td>\n",
              "    </tr>\n",
              "    <tr>\n",
              "      <th>1</th>\n",
              "      <td>2</td>\n",
              "      <td>51250</td>\n",
              "      <td>1</td>\n",
              "      <td>2017-08-31T00:00:00</td>\n",
              "      <td>22:01</td>\n",
              "      <td>2017-08-31T00:00:00</td>\n",
              "      <td>22:31</td>\n",
              "      <td>19.450</td>\n",
              "      <td>Crown Inn Wynd Car Park, Auchterarder</td>\n",
              "      <td>Siemens Triple Rapid Charger</td>\n",
              "    </tr>\n",
              "    <tr>\n",
              "      <th>2</th>\n",
              "      <td>3</td>\n",
              "      <td>50575</td>\n",
              "      <td>2</td>\n",
              "      <td>2017-08-31T00:00:00</td>\n",
              "      <td>21:21</td>\n",
              "      <td>2017-08-31T00:00:00</td>\n",
              "      <td>21:59</td>\n",
              "      <td>19.710</td>\n",
              "      <td>South Inch Car Park, Perth</td>\n",
              "      <td>APT Triple Rapid Charger</td>\n",
              "    </tr>\n",
              "    <tr>\n",
              "      <th>3</th>\n",
              "      <td>4</td>\n",
              "      <td>51516</td>\n",
              "      <td>2</td>\n",
              "      <td>2017-08-31T00:00:00</td>\n",
              "      <td>20:43</td>\n",
              "      <td>2017-08-31T00:00:00</td>\n",
              "      <td>21:03</td>\n",
              "      <td>9.840</td>\n",
              "      <td>Kinross Park and Ride</td>\n",
              "      <td>APT Triple Rapid Charger</td>\n",
              "    </tr>\n",
              "    <tr>\n",
              "      <th>4</th>\n",
              "      <td>5</td>\n",
              "      <td>50994</td>\n",
              "      <td>2</td>\n",
              "      <td>2017-08-31T00:00:00</td>\n",
              "      <td>19:50</td>\n",
              "      <td>2017-08-31T00:00:00</td>\n",
              "      <td>20:50</td>\n",
              "      <td>14.170</td>\n",
              "      <td>Leslie Street Car Park, Blairgowrie</td>\n",
              "      <td>APT Triple Rapid Charger</td>\n",
              "    </tr>\n",
              "    <tr>\n",
              "      <th>...</th>\n",
              "      <td>...</td>\n",
              "      <td>...</td>\n",
              "      <td>...</td>\n",
              "      <td>...</td>\n",
              "      <td>...</td>\n",
              "      <td>...</td>\n",
              "      <td>...</td>\n",
              "      <td>...</td>\n",
              "      <td>...</td>\n",
              "      <td>...</td>\n",
              "    </tr>\n",
              "    <tr>\n",
              "      <th>13671</th>\n",
              "      <td>13672</td>\n",
              "      <td>50745</td>\n",
              "      <td>2</td>\n",
              "      <td>2016-01-09T00:00:00</td>\n",
              "      <td>09:22</td>\n",
              "      <td>2016-01-09T00:00:00</td>\n",
              "      <td>09:37</td>\n",
              "      <td>3.580</td>\n",
              "      <td>Kinross Park and Ride</td>\n",
              "      <td>APT Triple Rapid Charger</td>\n",
              "    </tr>\n",
              "    <tr>\n",
              "      <th>13672</th>\n",
              "      <td>13673</td>\n",
              "      <td>50281</td>\n",
              "      <td>1</td>\n",
              "      <td>2016-01-09T00:00:00</td>\n",
              "      <td>08:54</td>\n",
              "      <td>2016-01-09T00:00:00</td>\n",
              "      <td>16:37</td>\n",
              "      <td>10.380</td>\n",
              "      <td>Rie-Achan Road Car Park, Pitlochry</td>\n",
              "      <td>APT 22kW Dual Outlet</td>\n",
              "    </tr>\n",
              "    <tr>\n",
              "      <th>13673</th>\n",
              "      <td>13674</td>\n",
              "      <td>50285</td>\n",
              "      <td>1</td>\n",
              "      <td>2016-01-09T00:00:00</td>\n",
              "      <td>08:22</td>\n",
              "      <td>2016-01-09T00:00:00</td>\n",
              "      <td>14:32</td>\n",
              "      <td>13.930</td>\n",
              "      <td>Broxden Park &amp; Ride</td>\n",
              "      <td>APT 22kW Dual Outlet</td>\n",
              "    </tr>\n",
              "    <tr>\n",
              "      <th>13674</th>\n",
              "      <td>13675</td>\n",
              "      <td>50281</td>\n",
              "      <td>2</td>\n",
              "      <td>2016-01-09T00:00:00</td>\n",
              "      <td>07:51</td>\n",
              "      <td>2016-01-09T00:00:00</td>\n",
              "      <td>09:01</td>\n",
              "      <td>3.870</td>\n",
              "      <td>Rie-Achan Road Car Park, Pitlochry</td>\n",
              "      <td>APT 22kW Dual Outlet</td>\n",
              "    </tr>\n",
              "    <tr>\n",
              "      <th>13675</th>\n",
              "      <td>13676</td>\n",
              "      <td>50994</td>\n",
              "      <td>1</td>\n",
              "      <td>2016-01-09T00:00:00</td>\n",
              "      <td>07:21</td>\n",
              "      <td>2016-01-09T00:00:00</td>\n",
              "      <td>07:27</td>\n",
              "      <td>2.084</td>\n",
              "      <td>Leslie Street Car Park, Blairgowrie</td>\n",
              "      <td>APT Triple Rapid Charger</td>\n",
              "    </tr>\n",
              "  </tbody>\n",
              "</table>\n",
              "<p>13676 rows × 10 columns</p>\n",
              "</div>\n",
              "      <button class=\"colab-df-convert\" onclick=\"convertToInteractive('df-848cdd9f-04a8-4394-81c3-159ceb6e2e22')\"\n",
              "              title=\"Convert this dataframe to an interactive table.\"\n",
              "              style=\"display:none;\">\n",
              "        \n",
              "  <svg xmlns=\"http://www.w3.org/2000/svg\" height=\"24px\"viewBox=\"0 0 24 24\"\n",
              "       width=\"24px\">\n",
              "    <path d=\"M0 0h24v24H0V0z\" fill=\"none\"/>\n",
              "    <path d=\"M18.56 5.44l.94 2.06.94-2.06 2.06-.94-2.06-.94-.94-2.06-.94 2.06-2.06.94zm-11 1L8.5 8.5l.94-2.06 2.06-.94-2.06-.94L8.5 2.5l-.94 2.06-2.06.94zm10 10l.94 2.06.94-2.06 2.06-.94-2.06-.94-.94-2.06-.94 2.06-2.06.94z\"/><path d=\"M17.41 7.96l-1.37-1.37c-.4-.4-.92-.59-1.43-.59-.52 0-1.04.2-1.43.59L10.3 9.45l-7.72 7.72c-.78.78-.78 2.05 0 2.83L4 21.41c.39.39.9.59 1.41.59.51 0 1.02-.2 1.41-.59l7.78-7.78 2.81-2.81c.8-.78.8-2.07 0-2.86zM5.41 20L4 18.59l7.72-7.72 1.47 1.35L5.41 20z\"/>\n",
              "  </svg>\n",
              "      </button>\n",
              "      \n",
              "  <style>\n",
              "    .colab-df-container {\n",
              "      display:flex;\n",
              "      flex-wrap:wrap;\n",
              "      gap: 12px;\n",
              "    }\n",
              "\n",
              "    .colab-df-convert {\n",
              "      background-color: #E8F0FE;\n",
              "      border: none;\n",
              "      border-radius: 50%;\n",
              "      cursor: pointer;\n",
              "      display: none;\n",
              "      fill: #1967D2;\n",
              "      height: 32px;\n",
              "      padding: 0 0 0 0;\n",
              "      width: 32px;\n",
              "    }\n",
              "\n",
              "    .colab-df-convert:hover {\n",
              "      background-color: #E2EBFA;\n",
              "      box-shadow: 0px 1px 2px rgba(60, 64, 67, 0.3), 0px 1px 3px 1px rgba(60, 64, 67, 0.15);\n",
              "      fill: #174EA6;\n",
              "    }\n",
              "\n",
              "    [theme=dark] .colab-df-convert {\n",
              "      background-color: #3B4455;\n",
              "      fill: #D2E3FC;\n",
              "    }\n",
              "\n",
              "    [theme=dark] .colab-df-convert:hover {\n",
              "      background-color: #434B5C;\n",
              "      box-shadow: 0px 1px 3px 1px rgba(0, 0, 0, 0.15);\n",
              "      filter: drop-shadow(0px 1px 2px rgba(0, 0, 0, 0.3));\n",
              "      fill: #FFFFFF;\n",
              "    }\n",
              "  </style>\n",
              "\n",
              "      <script>\n",
              "        const buttonEl =\n",
              "          document.querySelector('#df-848cdd9f-04a8-4394-81c3-159ceb6e2e22 button.colab-df-convert');\n",
              "        buttonEl.style.display =\n",
              "          google.colab.kernel.accessAllowed ? 'block' : 'none';\n",
              "\n",
              "        async function convertToInteractive(key) {\n",
              "          const element = document.querySelector('#df-848cdd9f-04a8-4394-81c3-159ceb6e2e22');\n",
              "          const dataTable =\n",
              "            await google.colab.kernel.invokeFunction('convertToInteractive',\n",
              "                                                     [key], {});\n",
              "          if (!dataTable) return;\n",
              "\n",
              "          const docLinkHtml = 'Like what you see? Visit the ' +\n",
              "            '<a target=\"_blank\" href=https://colab.research.google.com/notebooks/data_table.ipynb>data table notebook</a>'\n",
              "            + ' to learn more about interactive tables.';\n",
              "          element.innerHTML = '';\n",
              "          dataTable['output_type'] = 'display_data';\n",
              "          await google.colab.output.renderOutput(dataTable, element);\n",
              "          const docLink = document.createElement('div');\n",
              "          docLink.innerHTML = docLinkHtml;\n",
              "          element.appendChild(docLink);\n",
              "        }\n",
              "      </script>\n",
              "    </div>\n",
              "  </div>\n",
              "  "
            ]
          },
          "metadata": {},
          "execution_count": 377
        }
      ]
    },
    {
      "cell_type": "code",
      "source": [
        "df['Start Date'] = pd.to_datetime(df['Start Date'], format='%Y-%m-%d %H:%M:%S') \n",
        "df['End Date'] = pd.to_datetime(df['End Date'], format='%Y-%m-%d %H:%M:%S')"
      ],
      "metadata": {
        "id": "EgIhlybf3Qg5"
      },
      "execution_count": 378,
      "outputs": []
    },
    {
      "cell_type": "code",
      "source": [
        "df"
      ],
      "metadata": {
        "colab": {
          "base_uri": "https://localhost:8080/",
          "height": 424
        },
        "id": "hPRYkCLn_gnH",
        "outputId": "47fce23d-5d21-4a82-e78a-1278c485d0df"
      },
      "execution_count": 379,
      "outputs": [
        {
          "output_type": "execute_result",
          "data": {
            "text/plain": [
              "         _id  CP ID  Connector Start Date Start Time   End Date End Time  \\\n",
              "0          1  51519          2 2017-08-31      22:12 2017-08-31    23:11   \n",
              "1          2  51250          1 2017-08-31      22:01 2017-08-31    22:31   \n",
              "2          3  50575          2 2017-08-31      21:21 2017-08-31    21:59   \n",
              "3          4  51516          2 2017-08-31      20:43 2017-08-31    21:03   \n",
              "4          5  50994          2 2017-08-31      19:50 2017-08-31    20:50   \n",
              "...      ...    ...        ...        ...        ...        ...      ...   \n",
              "13671  13672  50745          2 2016-01-09      09:22 2016-01-09    09:37   \n",
              "13672  13673  50281          1 2016-01-09      08:54 2016-01-09    16:37   \n",
              "13673  13674  50285          1 2016-01-09      08:22 2016-01-09    14:32   \n",
              "13674  13675  50281          2 2016-01-09      07:51 2016-01-09    09:01   \n",
              "13675  13676  50994          1 2016-01-09      07:21 2016-01-09    07:27   \n",
              "\n",
              "       Total kWh                                   Site  \\\n",
              "0         18.270             Broxden Park & Ride, Perth   \n",
              "1         19.450  Crown Inn Wynd Car Park, Auchterarder   \n",
              "2         19.710             South Inch Car Park, Perth   \n",
              "3          9.840                  Kinross Park and Ride   \n",
              "4         14.170    Leslie Street Car Park, Blairgowrie   \n",
              "...          ...                                    ...   \n",
              "13671      3.580                  Kinross Park and Ride   \n",
              "13672     10.380     Rie-Achan Road Car Park, Pitlochry   \n",
              "13673     13.930                    Broxden Park & Ride   \n",
              "13674      3.870     Rie-Achan Road Car Park, Pitlochry   \n",
              "13675      2.084    Leslie Street Car Park, Blairgowrie   \n",
              "\n",
              "                              Model  \n",
              "0          APT Triple Rapid Charger  \n",
              "1      Siemens Triple Rapid Charger  \n",
              "2          APT Triple Rapid Charger  \n",
              "3          APT Triple Rapid Charger  \n",
              "4          APT Triple Rapid Charger  \n",
              "...                             ...  \n",
              "13671      APT Triple Rapid Charger  \n",
              "13672          APT 22kW Dual Outlet  \n",
              "13673          APT 22kW Dual Outlet  \n",
              "13674          APT 22kW Dual Outlet  \n",
              "13675      APT Triple Rapid Charger  \n",
              "\n",
              "[13676 rows x 10 columns]"
            ],
            "text/html": [
              "\n",
              "  <div id=\"df-02e8316c-829a-4061-b7e8-d21a9a8e3de0\">\n",
              "    <div class=\"colab-df-container\">\n",
              "      <div>\n",
              "<style scoped>\n",
              "    .dataframe tbody tr th:only-of-type {\n",
              "        vertical-align: middle;\n",
              "    }\n",
              "\n",
              "    .dataframe tbody tr th {\n",
              "        vertical-align: top;\n",
              "    }\n",
              "\n",
              "    .dataframe thead th {\n",
              "        text-align: right;\n",
              "    }\n",
              "</style>\n",
              "<table border=\"1\" class=\"dataframe\">\n",
              "  <thead>\n",
              "    <tr style=\"text-align: right;\">\n",
              "      <th></th>\n",
              "      <th>_id</th>\n",
              "      <th>CP ID</th>\n",
              "      <th>Connector</th>\n",
              "      <th>Start Date</th>\n",
              "      <th>Start Time</th>\n",
              "      <th>End Date</th>\n",
              "      <th>End Time</th>\n",
              "      <th>Total kWh</th>\n",
              "      <th>Site</th>\n",
              "      <th>Model</th>\n",
              "    </tr>\n",
              "  </thead>\n",
              "  <tbody>\n",
              "    <tr>\n",
              "      <th>0</th>\n",
              "      <td>1</td>\n",
              "      <td>51519</td>\n",
              "      <td>2</td>\n",
              "      <td>2017-08-31</td>\n",
              "      <td>22:12</td>\n",
              "      <td>2017-08-31</td>\n",
              "      <td>23:11</td>\n",
              "      <td>18.270</td>\n",
              "      <td>Broxden Park &amp; Ride, Perth</td>\n",
              "      <td>APT Triple Rapid Charger</td>\n",
              "    </tr>\n",
              "    <tr>\n",
              "      <th>1</th>\n",
              "      <td>2</td>\n",
              "      <td>51250</td>\n",
              "      <td>1</td>\n",
              "      <td>2017-08-31</td>\n",
              "      <td>22:01</td>\n",
              "      <td>2017-08-31</td>\n",
              "      <td>22:31</td>\n",
              "      <td>19.450</td>\n",
              "      <td>Crown Inn Wynd Car Park, Auchterarder</td>\n",
              "      <td>Siemens Triple Rapid Charger</td>\n",
              "    </tr>\n",
              "    <tr>\n",
              "      <th>2</th>\n",
              "      <td>3</td>\n",
              "      <td>50575</td>\n",
              "      <td>2</td>\n",
              "      <td>2017-08-31</td>\n",
              "      <td>21:21</td>\n",
              "      <td>2017-08-31</td>\n",
              "      <td>21:59</td>\n",
              "      <td>19.710</td>\n",
              "      <td>South Inch Car Park, Perth</td>\n",
              "      <td>APT Triple Rapid Charger</td>\n",
              "    </tr>\n",
              "    <tr>\n",
              "      <th>3</th>\n",
              "      <td>4</td>\n",
              "      <td>51516</td>\n",
              "      <td>2</td>\n",
              "      <td>2017-08-31</td>\n",
              "      <td>20:43</td>\n",
              "      <td>2017-08-31</td>\n",
              "      <td>21:03</td>\n",
              "      <td>9.840</td>\n",
              "      <td>Kinross Park and Ride</td>\n",
              "      <td>APT Triple Rapid Charger</td>\n",
              "    </tr>\n",
              "    <tr>\n",
              "      <th>4</th>\n",
              "      <td>5</td>\n",
              "      <td>50994</td>\n",
              "      <td>2</td>\n",
              "      <td>2017-08-31</td>\n",
              "      <td>19:50</td>\n",
              "      <td>2017-08-31</td>\n",
              "      <td>20:50</td>\n",
              "      <td>14.170</td>\n",
              "      <td>Leslie Street Car Park, Blairgowrie</td>\n",
              "      <td>APT Triple Rapid Charger</td>\n",
              "    </tr>\n",
              "    <tr>\n",
              "      <th>...</th>\n",
              "      <td>...</td>\n",
              "      <td>...</td>\n",
              "      <td>...</td>\n",
              "      <td>...</td>\n",
              "      <td>...</td>\n",
              "      <td>...</td>\n",
              "      <td>...</td>\n",
              "      <td>...</td>\n",
              "      <td>...</td>\n",
              "      <td>...</td>\n",
              "    </tr>\n",
              "    <tr>\n",
              "      <th>13671</th>\n",
              "      <td>13672</td>\n",
              "      <td>50745</td>\n",
              "      <td>2</td>\n",
              "      <td>2016-01-09</td>\n",
              "      <td>09:22</td>\n",
              "      <td>2016-01-09</td>\n",
              "      <td>09:37</td>\n",
              "      <td>3.580</td>\n",
              "      <td>Kinross Park and Ride</td>\n",
              "      <td>APT Triple Rapid Charger</td>\n",
              "    </tr>\n",
              "    <tr>\n",
              "      <th>13672</th>\n",
              "      <td>13673</td>\n",
              "      <td>50281</td>\n",
              "      <td>1</td>\n",
              "      <td>2016-01-09</td>\n",
              "      <td>08:54</td>\n",
              "      <td>2016-01-09</td>\n",
              "      <td>16:37</td>\n",
              "      <td>10.380</td>\n",
              "      <td>Rie-Achan Road Car Park, Pitlochry</td>\n",
              "      <td>APT 22kW Dual Outlet</td>\n",
              "    </tr>\n",
              "    <tr>\n",
              "      <th>13673</th>\n",
              "      <td>13674</td>\n",
              "      <td>50285</td>\n",
              "      <td>1</td>\n",
              "      <td>2016-01-09</td>\n",
              "      <td>08:22</td>\n",
              "      <td>2016-01-09</td>\n",
              "      <td>14:32</td>\n",
              "      <td>13.930</td>\n",
              "      <td>Broxden Park &amp; Ride</td>\n",
              "      <td>APT 22kW Dual Outlet</td>\n",
              "    </tr>\n",
              "    <tr>\n",
              "      <th>13674</th>\n",
              "      <td>13675</td>\n",
              "      <td>50281</td>\n",
              "      <td>2</td>\n",
              "      <td>2016-01-09</td>\n",
              "      <td>07:51</td>\n",
              "      <td>2016-01-09</td>\n",
              "      <td>09:01</td>\n",
              "      <td>3.870</td>\n",
              "      <td>Rie-Achan Road Car Park, Pitlochry</td>\n",
              "      <td>APT 22kW Dual Outlet</td>\n",
              "    </tr>\n",
              "    <tr>\n",
              "      <th>13675</th>\n",
              "      <td>13676</td>\n",
              "      <td>50994</td>\n",
              "      <td>1</td>\n",
              "      <td>2016-01-09</td>\n",
              "      <td>07:21</td>\n",
              "      <td>2016-01-09</td>\n",
              "      <td>07:27</td>\n",
              "      <td>2.084</td>\n",
              "      <td>Leslie Street Car Park, Blairgowrie</td>\n",
              "      <td>APT Triple Rapid Charger</td>\n",
              "    </tr>\n",
              "  </tbody>\n",
              "</table>\n",
              "<p>13676 rows × 10 columns</p>\n",
              "</div>\n",
              "      <button class=\"colab-df-convert\" onclick=\"convertToInteractive('df-02e8316c-829a-4061-b7e8-d21a9a8e3de0')\"\n",
              "              title=\"Convert this dataframe to an interactive table.\"\n",
              "              style=\"display:none;\">\n",
              "        \n",
              "  <svg xmlns=\"http://www.w3.org/2000/svg\" height=\"24px\"viewBox=\"0 0 24 24\"\n",
              "       width=\"24px\">\n",
              "    <path d=\"M0 0h24v24H0V0z\" fill=\"none\"/>\n",
              "    <path d=\"M18.56 5.44l.94 2.06.94-2.06 2.06-.94-2.06-.94-.94-2.06-.94 2.06-2.06.94zm-11 1L8.5 8.5l.94-2.06 2.06-.94-2.06-.94L8.5 2.5l-.94 2.06-2.06.94zm10 10l.94 2.06.94-2.06 2.06-.94-2.06-.94-.94-2.06-.94 2.06-2.06.94z\"/><path d=\"M17.41 7.96l-1.37-1.37c-.4-.4-.92-.59-1.43-.59-.52 0-1.04.2-1.43.59L10.3 9.45l-7.72 7.72c-.78.78-.78 2.05 0 2.83L4 21.41c.39.39.9.59 1.41.59.51 0 1.02-.2 1.41-.59l7.78-7.78 2.81-2.81c.8-.78.8-2.07 0-2.86zM5.41 20L4 18.59l7.72-7.72 1.47 1.35L5.41 20z\"/>\n",
              "  </svg>\n",
              "      </button>\n",
              "      \n",
              "  <style>\n",
              "    .colab-df-container {\n",
              "      display:flex;\n",
              "      flex-wrap:wrap;\n",
              "      gap: 12px;\n",
              "    }\n",
              "\n",
              "    .colab-df-convert {\n",
              "      background-color: #E8F0FE;\n",
              "      border: none;\n",
              "      border-radius: 50%;\n",
              "      cursor: pointer;\n",
              "      display: none;\n",
              "      fill: #1967D2;\n",
              "      height: 32px;\n",
              "      padding: 0 0 0 0;\n",
              "      width: 32px;\n",
              "    }\n",
              "\n",
              "    .colab-df-convert:hover {\n",
              "      background-color: #E2EBFA;\n",
              "      box-shadow: 0px 1px 2px rgba(60, 64, 67, 0.3), 0px 1px 3px 1px rgba(60, 64, 67, 0.15);\n",
              "      fill: #174EA6;\n",
              "    }\n",
              "\n",
              "    [theme=dark] .colab-df-convert {\n",
              "      background-color: #3B4455;\n",
              "      fill: #D2E3FC;\n",
              "    }\n",
              "\n",
              "    [theme=dark] .colab-df-convert:hover {\n",
              "      background-color: #434B5C;\n",
              "      box-shadow: 0px 1px 3px 1px rgba(0, 0, 0, 0.15);\n",
              "      filter: drop-shadow(0px 1px 2px rgba(0, 0, 0, 0.3));\n",
              "      fill: #FFFFFF;\n",
              "    }\n",
              "  </style>\n",
              "\n",
              "      <script>\n",
              "        const buttonEl =\n",
              "          document.querySelector('#df-02e8316c-829a-4061-b7e8-d21a9a8e3de0 button.colab-df-convert');\n",
              "        buttonEl.style.display =\n",
              "          google.colab.kernel.accessAllowed ? 'block' : 'none';\n",
              "\n",
              "        async function convertToInteractive(key) {\n",
              "          const element = document.querySelector('#df-02e8316c-829a-4061-b7e8-d21a9a8e3de0');\n",
              "          const dataTable =\n",
              "            await google.colab.kernel.invokeFunction('convertToInteractive',\n",
              "                                                     [key], {});\n",
              "          if (!dataTable) return;\n",
              "\n",
              "          const docLinkHtml = 'Like what you see? Visit the ' +\n",
              "            '<a target=\"_blank\" href=https://colab.research.google.com/notebooks/data_table.ipynb>data table notebook</a>'\n",
              "            + ' to learn more about interactive tables.';\n",
              "          element.innerHTML = '';\n",
              "          dataTable['output_type'] = 'display_data';\n",
              "          await google.colab.output.renderOutput(dataTable, element);\n",
              "          const docLink = document.createElement('div');\n",
              "          docLink.innerHTML = docLinkHtml;\n",
              "          element.appendChild(docLink);\n",
              "        }\n",
              "      </script>\n",
              "    </div>\n",
              "  </div>\n",
              "  "
            ]
          },
          "metadata": {},
          "execution_count": 379
        }
      ]
    },
    {
      "cell_type": "code",
      "source": [
        "df.info()"
      ],
      "metadata": {
        "colab": {
          "base_uri": "https://localhost:8080/"
        },
        "id": "yzOzmWqadGlv",
        "outputId": "b7bac282-fbf4-4b0c-90a3-bb2ba4c92fdf"
      },
      "execution_count": 380,
      "outputs": [
        {
          "output_type": "stream",
          "name": "stdout",
          "text": [
            "<class 'pandas.core.frame.DataFrame'>\n",
            "RangeIndex: 13676 entries, 0 to 13675\n",
            "Data columns (total 10 columns):\n",
            " #   Column      Non-Null Count  Dtype         \n",
            "---  ------      --------------  -----         \n",
            " 0   _id         13676 non-null  int64         \n",
            " 1   CP ID       13676 non-null  int64         \n",
            " 2   Connector   13676 non-null  int64         \n",
            " 3   Start Date  13676 non-null  datetime64[ns]\n",
            " 4   Start Time  13676 non-null  object        \n",
            " 5   End Date    13639 non-null  datetime64[ns]\n",
            " 6   End Time    13639 non-null  object        \n",
            " 7   Total kWh   13639 non-null  float64       \n",
            " 8   Site        13676 non-null  object        \n",
            " 9   Model       13676 non-null  object        \n",
            "dtypes: datetime64[ns](2), float64(1), int64(3), object(4)\n",
            "memory usage: 1.0+ MB\n"
          ]
        }
      ]
    },
    {
      "cell_type": "code",
      "source": [
        "check_nan_in_df = df.isnull()\n",
        "print (check_nan_in_df)"
      ],
      "metadata": {
        "colab": {
          "base_uri": "https://localhost:8080/"
        },
        "id": "5FyjxllAFIhr",
        "outputId": "fbf334da-e997-4eb3-f531-44fa9130cb38"
      },
      "execution_count": 381,
      "outputs": [
        {
          "output_type": "stream",
          "name": "stdout",
          "text": [
            "         _id  CP ID  Connector  Start Date  Start Time  End Date  End Time  \\\n",
            "0      False  False      False       False       False     False     False   \n",
            "1      False  False      False       False       False     False     False   \n",
            "2      False  False      False       False       False     False     False   \n",
            "3      False  False      False       False       False     False     False   \n",
            "4      False  False      False       False       False     False     False   \n",
            "...      ...    ...        ...         ...         ...       ...       ...   \n",
            "13671  False  False      False       False       False     False     False   \n",
            "13672  False  False      False       False       False     False     False   \n",
            "13673  False  False      False       False       False     False     False   \n",
            "13674  False  False      False       False       False     False     False   \n",
            "13675  False  False      False       False       False     False     False   \n",
            "\n",
            "       Total kWh   Site  Model  \n",
            "0          False  False  False  \n",
            "1          False  False  False  \n",
            "2          False  False  False  \n",
            "3          False  False  False  \n",
            "4          False  False  False  \n",
            "...          ...    ...    ...  \n",
            "13671      False  False  False  \n",
            "13672      False  False  False  \n",
            "13673      False  False  False  \n",
            "13674      False  False  False  \n",
            "13675      False  False  False  \n",
            "\n",
            "[13676 rows x 10 columns]\n"
          ]
        }
      ]
    },
    {
      "cell_type": "code",
      "source": [
        "df1 = df.dropna()"
      ],
      "metadata": {
        "id": "q8Ipq8qTFVmk"
      },
      "execution_count": 382,
      "outputs": []
    },
    {
      "cell_type": "code",
      "source": [
        "df1"
      ],
      "metadata": {
        "colab": {
          "base_uri": "https://localhost:8080/",
          "height": 424
        },
        "id": "1gN_JP6pH82a",
        "outputId": "cb2fee53-24c5-4c7a-bd72-dc8784df91e8"
      },
      "execution_count": 383,
      "outputs": [
        {
          "output_type": "execute_result",
          "data": {
            "text/plain": [
              "         _id  CP ID  Connector Start Date Start Time   End Date End Time  \\\n",
              "0          1  51519          2 2017-08-31      22:12 2017-08-31    23:11   \n",
              "1          2  51250          1 2017-08-31      22:01 2017-08-31    22:31   \n",
              "2          3  50575          2 2017-08-31      21:21 2017-08-31    21:59   \n",
              "3          4  51516          2 2017-08-31      20:43 2017-08-31    21:03   \n",
              "4          5  50994          2 2017-08-31      19:50 2017-08-31    20:50   \n",
              "...      ...    ...        ...        ...        ...        ...      ...   \n",
              "13671  13672  50745          2 2016-01-09      09:22 2016-01-09    09:37   \n",
              "13672  13673  50281          1 2016-01-09      08:54 2016-01-09    16:37   \n",
              "13673  13674  50285          1 2016-01-09      08:22 2016-01-09    14:32   \n",
              "13674  13675  50281          2 2016-01-09      07:51 2016-01-09    09:01   \n",
              "13675  13676  50994          1 2016-01-09      07:21 2016-01-09    07:27   \n",
              "\n",
              "       Total kWh                                   Site  \\\n",
              "0         18.270             Broxden Park & Ride, Perth   \n",
              "1         19.450  Crown Inn Wynd Car Park, Auchterarder   \n",
              "2         19.710             South Inch Car Park, Perth   \n",
              "3          9.840                  Kinross Park and Ride   \n",
              "4         14.170    Leslie Street Car Park, Blairgowrie   \n",
              "...          ...                                    ...   \n",
              "13671      3.580                  Kinross Park and Ride   \n",
              "13672     10.380     Rie-Achan Road Car Park, Pitlochry   \n",
              "13673     13.930                    Broxden Park & Ride   \n",
              "13674      3.870     Rie-Achan Road Car Park, Pitlochry   \n",
              "13675      2.084    Leslie Street Car Park, Blairgowrie   \n",
              "\n",
              "                              Model  \n",
              "0          APT Triple Rapid Charger  \n",
              "1      Siemens Triple Rapid Charger  \n",
              "2          APT Triple Rapid Charger  \n",
              "3          APT Triple Rapid Charger  \n",
              "4          APT Triple Rapid Charger  \n",
              "...                             ...  \n",
              "13671      APT Triple Rapid Charger  \n",
              "13672          APT 22kW Dual Outlet  \n",
              "13673          APT 22kW Dual Outlet  \n",
              "13674          APT 22kW Dual Outlet  \n",
              "13675      APT Triple Rapid Charger  \n",
              "\n",
              "[13639 rows x 10 columns]"
            ],
            "text/html": [
              "\n",
              "  <div id=\"df-c0daf1bd-86c8-4a3d-95aa-272a48f74e40\">\n",
              "    <div class=\"colab-df-container\">\n",
              "      <div>\n",
              "<style scoped>\n",
              "    .dataframe tbody tr th:only-of-type {\n",
              "        vertical-align: middle;\n",
              "    }\n",
              "\n",
              "    .dataframe tbody tr th {\n",
              "        vertical-align: top;\n",
              "    }\n",
              "\n",
              "    .dataframe thead th {\n",
              "        text-align: right;\n",
              "    }\n",
              "</style>\n",
              "<table border=\"1\" class=\"dataframe\">\n",
              "  <thead>\n",
              "    <tr style=\"text-align: right;\">\n",
              "      <th></th>\n",
              "      <th>_id</th>\n",
              "      <th>CP ID</th>\n",
              "      <th>Connector</th>\n",
              "      <th>Start Date</th>\n",
              "      <th>Start Time</th>\n",
              "      <th>End Date</th>\n",
              "      <th>End Time</th>\n",
              "      <th>Total kWh</th>\n",
              "      <th>Site</th>\n",
              "      <th>Model</th>\n",
              "    </tr>\n",
              "  </thead>\n",
              "  <tbody>\n",
              "    <tr>\n",
              "      <th>0</th>\n",
              "      <td>1</td>\n",
              "      <td>51519</td>\n",
              "      <td>2</td>\n",
              "      <td>2017-08-31</td>\n",
              "      <td>22:12</td>\n",
              "      <td>2017-08-31</td>\n",
              "      <td>23:11</td>\n",
              "      <td>18.270</td>\n",
              "      <td>Broxden Park &amp; Ride, Perth</td>\n",
              "      <td>APT Triple Rapid Charger</td>\n",
              "    </tr>\n",
              "    <tr>\n",
              "      <th>1</th>\n",
              "      <td>2</td>\n",
              "      <td>51250</td>\n",
              "      <td>1</td>\n",
              "      <td>2017-08-31</td>\n",
              "      <td>22:01</td>\n",
              "      <td>2017-08-31</td>\n",
              "      <td>22:31</td>\n",
              "      <td>19.450</td>\n",
              "      <td>Crown Inn Wynd Car Park, Auchterarder</td>\n",
              "      <td>Siemens Triple Rapid Charger</td>\n",
              "    </tr>\n",
              "    <tr>\n",
              "      <th>2</th>\n",
              "      <td>3</td>\n",
              "      <td>50575</td>\n",
              "      <td>2</td>\n",
              "      <td>2017-08-31</td>\n",
              "      <td>21:21</td>\n",
              "      <td>2017-08-31</td>\n",
              "      <td>21:59</td>\n",
              "      <td>19.710</td>\n",
              "      <td>South Inch Car Park, Perth</td>\n",
              "      <td>APT Triple Rapid Charger</td>\n",
              "    </tr>\n",
              "    <tr>\n",
              "      <th>3</th>\n",
              "      <td>4</td>\n",
              "      <td>51516</td>\n",
              "      <td>2</td>\n",
              "      <td>2017-08-31</td>\n",
              "      <td>20:43</td>\n",
              "      <td>2017-08-31</td>\n",
              "      <td>21:03</td>\n",
              "      <td>9.840</td>\n",
              "      <td>Kinross Park and Ride</td>\n",
              "      <td>APT Triple Rapid Charger</td>\n",
              "    </tr>\n",
              "    <tr>\n",
              "      <th>4</th>\n",
              "      <td>5</td>\n",
              "      <td>50994</td>\n",
              "      <td>2</td>\n",
              "      <td>2017-08-31</td>\n",
              "      <td>19:50</td>\n",
              "      <td>2017-08-31</td>\n",
              "      <td>20:50</td>\n",
              "      <td>14.170</td>\n",
              "      <td>Leslie Street Car Park, Blairgowrie</td>\n",
              "      <td>APT Triple Rapid Charger</td>\n",
              "    </tr>\n",
              "    <tr>\n",
              "      <th>...</th>\n",
              "      <td>...</td>\n",
              "      <td>...</td>\n",
              "      <td>...</td>\n",
              "      <td>...</td>\n",
              "      <td>...</td>\n",
              "      <td>...</td>\n",
              "      <td>...</td>\n",
              "      <td>...</td>\n",
              "      <td>...</td>\n",
              "      <td>...</td>\n",
              "    </tr>\n",
              "    <tr>\n",
              "      <th>13671</th>\n",
              "      <td>13672</td>\n",
              "      <td>50745</td>\n",
              "      <td>2</td>\n",
              "      <td>2016-01-09</td>\n",
              "      <td>09:22</td>\n",
              "      <td>2016-01-09</td>\n",
              "      <td>09:37</td>\n",
              "      <td>3.580</td>\n",
              "      <td>Kinross Park and Ride</td>\n",
              "      <td>APT Triple Rapid Charger</td>\n",
              "    </tr>\n",
              "    <tr>\n",
              "      <th>13672</th>\n",
              "      <td>13673</td>\n",
              "      <td>50281</td>\n",
              "      <td>1</td>\n",
              "      <td>2016-01-09</td>\n",
              "      <td>08:54</td>\n",
              "      <td>2016-01-09</td>\n",
              "      <td>16:37</td>\n",
              "      <td>10.380</td>\n",
              "      <td>Rie-Achan Road Car Park, Pitlochry</td>\n",
              "      <td>APT 22kW Dual Outlet</td>\n",
              "    </tr>\n",
              "    <tr>\n",
              "      <th>13673</th>\n",
              "      <td>13674</td>\n",
              "      <td>50285</td>\n",
              "      <td>1</td>\n",
              "      <td>2016-01-09</td>\n",
              "      <td>08:22</td>\n",
              "      <td>2016-01-09</td>\n",
              "      <td>14:32</td>\n",
              "      <td>13.930</td>\n",
              "      <td>Broxden Park &amp; Ride</td>\n",
              "      <td>APT 22kW Dual Outlet</td>\n",
              "    </tr>\n",
              "    <tr>\n",
              "      <th>13674</th>\n",
              "      <td>13675</td>\n",
              "      <td>50281</td>\n",
              "      <td>2</td>\n",
              "      <td>2016-01-09</td>\n",
              "      <td>07:51</td>\n",
              "      <td>2016-01-09</td>\n",
              "      <td>09:01</td>\n",
              "      <td>3.870</td>\n",
              "      <td>Rie-Achan Road Car Park, Pitlochry</td>\n",
              "      <td>APT 22kW Dual Outlet</td>\n",
              "    </tr>\n",
              "    <tr>\n",
              "      <th>13675</th>\n",
              "      <td>13676</td>\n",
              "      <td>50994</td>\n",
              "      <td>1</td>\n",
              "      <td>2016-01-09</td>\n",
              "      <td>07:21</td>\n",
              "      <td>2016-01-09</td>\n",
              "      <td>07:27</td>\n",
              "      <td>2.084</td>\n",
              "      <td>Leslie Street Car Park, Blairgowrie</td>\n",
              "      <td>APT Triple Rapid Charger</td>\n",
              "    </tr>\n",
              "  </tbody>\n",
              "</table>\n",
              "<p>13639 rows × 10 columns</p>\n",
              "</div>\n",
              "      <button class=\"colab-df-convert\" onclick=\"convertToInteractive('df-c0daf1bd-86c8-4a3d-95aa-272a48f74e40')\"\n",
              "              title=\"Convert this dataframe to an interactive table.\"\n",
              "              style=\"display:none;\">\n",
              "        \n",
              "  <svg xmlns=\"http://www.w3.org/2000/svg\" height=\"24px\"viewBox=\"0 0 24 24\"\n",
              "       width=\"24px\">\n",
              "    <path d=\"M0 0h24v24H0V0z\" fill=\"none\"/>\n",
              "    <path d=\"M18.56 5.44l.94 2.06.94-2.06 2.06-.94-2.06-.94-.94-2.06-.94 2.06-2.06.94zm-11 1L8.5 8.5l.94-2.06 2.06-.94-2.06-.94L8.5 2.5l-.94 2.06-2.06.94zm10 10l.94 2.06.94-2.06 2.06-.94-2.06-.94-.94-2.06-.94 2.06-2.06.94z\"/><path d=\"M17.41 7.96l-1.37-1.37c-.4-.4-.92-.59-1.43-.59-.52 0-1.04.2-1.43.59L10.3 9.45l-7.72 7.72c-.78.78-.78 2.05 0 2.83L4 21.41c.39.39.9.59 1.41.59.51 0 1.02-.2 1.41-.59l7.78-7.78 2.81-2.81c.8-.78.8-2.07 0-2.86zM5.41 20L4 18.59l7.72-7.72 1.47 1.35L5.41 20z\"/>\n",
              "  </svg>\n",
              "      </button>\n",
              "      \n",
              "  <style>\n",
              "    .colab-df-container {\n",
              "      display:flex;\n",
              "      flex-wrap:wrap;\n",
              "      gap: 12px;\n",
              "    }\n",
              "\n",
              "    .colab-df-convert {\n",
              "      background-color: #E8F0FE;\n",
              "      border: none;\n",
              "      border-radius: 50%;\n",
              "      cursor: pointer;\n",
              "      display: none;\n",
              "      fill: #1967D2;\n",
              "      height: 32px;\n",
              "      padding: 0 0 0 0;\n",
              "      width: 32px;\n",
              "    }\n",
              "\n",
              "    .colab-df-convert:hover {\n",
              "      background-color: #E2EBFA;\n",
              "      box-shadow: 0px 1px 2px rgba(60, 64, 67, 0.3), 0px 1px 3px 1px rgba(60, 64, 67, 0.15);\n",
              "      fill: #174EA6;\n",
              "    }\n",
              "\n",
              "    [theme=dark] .colab-df-convert {\n",
              "      background-color: #3B4455;\n",
              "      fill: #D2E3FC;\n",
              "    }\n",
              "\n",
              "    [theme=dark] .colab-df-convert:hover {\n",
              "      background-color: #434B5C;\n",
              "      box-shadow: 0px 1px 3px 1px rgba(0, 0, 0, 0.15);\n",
              "      filter: drop-shadow(0px 1px 2px rgba(0, 0, 0, 0.3));\n",
              "      fill: #FFFFFF;\n",
              "    }\n",
              "  </style>\n",
              "\n",
              "      <script>\n",
              "        const buttonEl =\n",
              "          document.querySelector('#df-c0daf1bd-86c8-4a3d-95aa-272a48f74e40 button.colab-df-convert');\n",
              "        buttonEl.style.display =\n",
              "          google.colab.kernel.accessAllowed ? 'block' : 'none';\n",
              "\n",
              "        async function convertToInteractive(key) {\n",
              "          const element = document.querySelector('#df-c0daf1bd-86c8-4a3d-95aa-272a48f74e40');\n",
              "          const dataTable =\n",
              "            await google.colab.kernel.invokeFunction('convertToInteractive',\n",
              "                                                     [key], {});\n",
              "          if (!dataTable) return;\n",
              "\n",
              "          const docLinkHtml = 'Like what you see? Visit the ' +\n",
              "            '<a target=\"_blank\" href=https://colab.research.google.com/notebooks/data_table.ipynb>data table notebook</a>'\n",
              "            + ' to learn more about interactive tables.';\n",
              "          element.innerHTML = '';\n",
              "          dataTable['output_type'] = 'display_data';\n",
              "          await google.colab.output.renderOutput(dataTable, element);\n",
              "          const docLink = document.createElement('div');\n",
              "          docLink.innerHTML = docLinkHtml;\n",
              "          element.appendChild(docLink);\n",
              "        }\n",
              "      </script>\n",
              "    </div>\n",
              "  </div>\n",
              "  "
            ]
          },
          "metadata": {},
          "execution_count": 383
        }
      ]
    },
    {
      "cell_type": "code",
      "source": [
        "df1['StartDateTime'] = pd.to_datetime(df1['Start Date'].astype(str) + ' ' +df1['Start Time'].astype(str))"
      ],
      "metadata": {
        "colab": {
          "base_uri": "https://localhost:8080/"
        },
        "id": "YQLAXvfTBL3s",
        "outputId": "807f1810-5898-437e-a3e5-dd907bb971a0"
      },
      "execution_count": 384,
      "outputs": [
        {
          "output_type": "stream",
          "name": "stderr",
          "text": [
            "/usr/local/lib/python3.7/dist-packages/ipykernel_launcher.py:1: SettingWithCopyWarning: \n",
            "A value is trying to be set on a copy of a slice from a DataFrame.\n",
            "Try using .loc[row_indexer,col_indexer] = value instead\n",
            "\n",
            "See the caveats in the documentation: https://pandas.pydata.org/pandas-docs/stable/user_guide/indexing.html#returning-a-view-versus-a-copy\n",
            "  \"\"\"Entry point for launching an IPython kernel.\n"
          ]
        }
      ]
    },
    {
      "cell_type": "code",
      "source": [
        "df1['EndDateTime'] = pd.to_datetime(df1['End Date'].astype(str) + ' ' +df1['End Time'].astype(str))"
      ],
      "metadata": {
        "colab": {
          "base_uri": "https://localhost:8080/"
        },
        "id": "OucnOnWxHzgd",
        "outputId": "1fe43b90-2a7d-4af4-df2d-f195c7a07149"
      },
      "execution_count": 385,
      "outputs": [
        {
          "output_type": "stream",
          "name": "stderr",
          "text": [
            "/usr/local/lib/python3.7/dist-packages/ipykernel_launcher.py:1: SettingWithCopyWarning: \n",
            "A value is trying to be set on a copy of a slice from a DataFrame.\n",
            "Try using .loc[row_indexer,col_indexer] = value instead\n",
            "\n",
            "See the caveats in the documentation: https://pandas.pydata.org/pandas-docs/stable/user_guide/indexing.html#returning-a-view-versus-a-copy\n",
            "  \"\"\"Entry point for launching an IPython kernel.\n"
          ]
        }
      ]
    },
    {
      "cell_type": "code",
      "source": [
        "df1 = df1.drop(columns=['_id','CP ID','Start Date', 'Start Time','End Date','End Time'])\n",
        "df1=df1[['StartDateTime','EndDateTime','Connector','Site','Model','Total kWh']]\n",
        "df1"
      ],
      "metadata": {
        "colab": {
          "base_uri": "https://localhost:8080/",
          "height": 424
        },
        "id": "KcVXKoPtDdMs",
        "outputId": "a5ecda30-e380-479b-c4f7-b52af2f049e3"
      },
      "execution_count": 386,
      "outputs": [
        {
          "output_type": "execute_result",
          "data": {
            "text/plain": [
              "            StartDateTime         EndDateTime  Connector  \\\n",
              "0     2017-08-31 22:12:00 2017-08-31 23:11:00          2   \n",
              "1     2017-08-31 22:01:00 2017-08-31 22:31:00          1   \n",
              "2     2017-08-31 21:21:00 2017-08-31 21:59:00          2   \n",
              "3     2017-08-31 20:43:00 2017-08-31 21:03:00          2   \n",
              "4     2017-08-31 19:50:00 2017-08-31 20:50:00          2   \n",
              "...                   ...                 ...        ...   \n",
              "13671 2016-01-09 09:22:00 2016-01-09 09:37:00          2   \n",
              "13672 2016-01-09 08:54:00 2016-01-09 16:37:00          1   \n",
              "13673 2016-01-09 08:22:00 2016-01-09 14:32:00          1   \n",
              "13674 2016-01-09 07:51:00 2016-01-09 09:01:00          2   \n",
              "13675 2016-01-09 07:21:00 2016-01-09 07:27:00          1   \n",
              "\n",
              "                                        Site                         Model  \\\n",
              "0                 Broxden Park & Ride, Perth      APT Triple Rapid Charger   \n",
              "1      Crown Inn Wynd Car Park, Auchterarder  Siemens Triple Rapid Charger   \n",
              "2                 South Inch Car Park, Perth      APT Triple Rapid Charger   \n",
              "3                      Kinross Park and Ride      APT Triple Rapid Charger   \n",
              "4        Leslie Street Car Park, Blairgowrie      APT Triple Rapid Charger   \n",
              "...                                      ...                           ...   \n",
              "13671                  Kinross Park and Ride      APT Triple Rapid Charger   \n",
              "13672     Rie-Achan Road Car Park, Pitlochry          APT 22kW Dual Outlet   \n",
              "13673                    Broxden Park & Ride          APT 22kW Dual Outlet   \n",
              "13674     Rie-Achan Road Car Park, Pitlochry          APT 22kW Dual Outlet   \n",
              "13675    Leslie Street Car Park, Blairgowrie      APT Triple Rapid Charger   \n",
              "\n",
              "       Total kWh  \n",
              "0         18.270  \n",
              "1         19.450  \n",
              "2         19.710  \n",
              "3          9.840  \n",
              "4         14.170  \n",
              "...          ...  \n",
              "13671      3.580  \n",
              "13672     10.380  \n",
              "13673     13.930  \n",
              "13674      3.870  \n",
              "13675      2.084  \n",
              "\n",
              "[13639 rows x 6 columns]"
            ],
            "text/html": [
              "\n",
              "  <div id=\"df-845d7047-35f5-4b95-bc12-2556a7e6da11\">\n",
              "    <div class=\"colab-df-container\">\n",
              "      <div>\n",
              "<style scoped>\n",
              "    .dataframe tbody tr th:only-of-type {\n",
              "        vertical-align: middle;\n",
              "    }\n",
              "\n",
              "    .dataframe tbody tr th {\n",
              "        vertical-align: top;\n",
              "    }\n",
              "\n",
              "    .dataframe thead th {\n",
              "        text-align: right;\n",
              "    }\n",
              "</style>\n",
              "<table border=\"1\" class=\"dataframe\">\n",
              "  <thead>\n",
              "    <tr style=\"text-align: right;\">\n",
              "      <th></th>\n",
              "      <th>StartDateTime</th>\n",
              "      <th>EndDateTime</th>\n",
              "      <th>Connector</th>\n",
              "      <th>Site</th>\n",
              "      <th>Model</th>\n",
              "      <th>Total kWh</th>\n",
              "    </tr>\n",
              "  </thead>\n",
              "  <tbody>\n",
              "    <tr>\n",
              "      <th>0</th>\n",
              "      <td>2017-08-31 22:12:00</td>\n",
              "      <td>2017-08-31 23:11:00</td>\n",
              "      <td>2</td>\n",
              "      <td>Broxden Park &amp; Ride, Perth</td>\n",
              "      <td>APT Triple Rapid Charger</td>\n",
              "      <td>18.270</td>\n",
              "    </tr>\n",
              "    <tr>\n",
              "      <th>1</th>\n",
              "      <td>2017-08-31 22:01:00</td>\n",
              "      <td>2017-08-31 22:31:00</td>\n",
              "      <td>1</td>\n",
              "      <td>Crown Inn Wynd Car Park, Auchterarder</td>\n",
              "      <td>Siemens Triple Rapid Charger</td>\n",
              "      <td>19.450</td>\n",
              "    </tr>\n",
              "    <tr>\n",
              "      <th>2</th>\n",
              "      <td>2017-08-31 21:21:00</td>\n",
              "      <td>2017-08-31 21:59:00</td>\n",
              "      <td>2</td>\n",
              "      <td>South Inch Car Park, Perth</td>\n",
              "      <td>APT Triple Rapid Charger</td>\n",
              "      <td>19.710</td>\n",
              "    </tr>\n",
              "    <tr>\n",
              "      <th>3</th>\n",
              "      <td>2017-08-31 20:43:00</td>\n",
              "      <td>2017-08-31 21:03:00</td>\n",
              "      <td>2</td>\n",
              "      <td>Kinross Park and Ride</td>\n",
              "      <td>APT Triple Rapid Charger</td>\n",
              "      <td>9.840</td>\n",
              "    </tr>\n",
              "    <tr>\n",
              "      <th>4</th>\n",
              "      <td>2017-08-31 19:50:00</td>\n",
              "      <td>2017-08-31 20:50:00</td>\n",
              "      <td>2</td>\n",
              "      <td>Leslie Street Car Park, Blairgowrie</td>\n",
              "      <td>APT Triple Rapid Charger</td>\n",
              "      <td>14.170</td>\n",
              "    </tr>\n",
              "    <tr>\n",
              "      <th>...</th>\n",
              "      <td>...</td>\n",
              "      <td>...</td>\n",
              "      <td>...</td>\n",
              "      <td>...</td>\n",
              "      <td>...</td>\n",
              "      <td>...</td>\n",
              "    </tr>\n",
              "    <tr>\n",
              "      <th>13671</th>\n",
              "      <td>2016-01-09 09:22:00</td>\n",
              "      <td>2016-01-09 09:37:00</td>\n",
              "      <td>2</td>\n",
              "      <td>Kinross Park and Ride</td>\n",
              "      <td>APT Triple Rapid Charger</td>\n",
              "      <td>3.580</td>\n",
              "    </tr>\n",
              "    <tr>\n",
              "      <th>13672</th>\n",
              "      <td>2016-01-09 08:54:00</td>\n",
              "      <td>2016-01-09 16:37:00</td>\n",
              "      <td>1</td>\n",
              "      <td>Rie-Achan Road Car Park, Pitlochry</td>\n",
              "      <td>APT 22kW Dual Outlet</td>\n",
              "      <td>10.380</td>\n",
              "    </tr>\n",
              "    <tr>\n",
              "      <th>13673</th>\n",
              "      <td>2016-01-09 08:22:00</td>\n",
              "      <td>2016-01-09 14:32:00</td>\n",
              "      <td>1</td>\n",
              "      <td>Broxden Park &amp; Ride</td>\n",
              "      <td>APT 22kW Dual Outlet</td>\n",
              "      <td>13.930</td>\n",
              "    </tr>\n",
              "    <tr>\n",
              "      <th>13674</th>\n",
              "      <td>2016-01-09 07:51:00</td>\n",
              "      <td>2016-01-09 09:01:00</td>\n",
              "      <td>2</td>\n",
              "      <td>Rie-Achan Road Car Park, Pitlochry</td>\n",
              "      <td>APT 22kW Dual Outlet</td>\n",
              "      <td>3.870</td>\n",
              "    </tr>\n",
              "    <tr>\n",
              "      <th>13675</th>\n",
              "      <td>2016-01-09 07:21:00</td>\n",
              "      <td>2016-01-09 07:27:00</td>\n",
              "      <td>1</td>\n",
              "      <td>Leslie Street Car Park, Blairgowrie</td>\n",
              "      <td>APT Triple Rapid Charger</td>\n",
              "      <td>2.084</td>\n",
              "    </tr>\n",
              "  </tbody>\n",
              "</table>\n",
              "<p>13639 rows × 6 columns</p>\n",
              "</div>\n",
              "      <button class=\"colab-df-convert\" onclick=\"convertToInteractive('df-845d7047-35f5-4b95-bc12-2556a7e6da11')\"\n",
              "              title=\"Convert this dataframe to an interactive table.\"\n",
              "              style=\"display:none;\">\n",
              "        \n",
              "  <svg xmlns=\"http://www.w3.org/2000/svg\" height=\"24px\"viewBox=\"0 0 24 24\"\n",
              "       width=\"24px\">\n",
              "    <path d=\"M0 0h24v24H0V0z\" fill=\"none\"/>\n",
              "    <path d=\"M18.56 5.44l.94 2.06.94-2.06 2.06-.94-2.06-.94-.94-2.06-.94 2.06-2.06.94zm-11 1L8.5 8.5l.94-2.06 2.06-.94-2.06-.94L8.5 2.5l-.94 2.06-2.06.94zm10 10l.94 2.06.94-2.06 2.06-.94-2.06-.94-.94-2.06-.94 2.06-2.06.94z\"/><path d=\"M17.41 7.96l-1.37-1.37c-.4-.4-.92-.59-1.43-.59-.52 0-1.04.2-1.43.59L10.3 9.45l-7.72 7.72c-.78.78-.78 2.05 0 2.83L4 21.41c.39.39.9.59 1.41.59.51 0 1.02-.2 1.41-.59l7.78-7.78 2.81-2.81c.8-.78.8-2.07 0-2.86zM5.41 20L4 18.59l7.72-7.72 1.47 1.35L5.41 20z\"/>\n",
              "  </svg>\n",
              "      </button>\n",
              "      \n",
              "  <style>\n",
              "    .colab-df-container {\n",
              "      display:flex;\n",
              "      flex-wrap:wrap;\n",
              "      gap: 12px;\n",
              "    }\n",
              "\n",
              "    .colab-df-convert {\n",
              "      background-color: #E8F0FE;\n",
              "      border: none;\n",
              "      border-radius: 50%;\n",
              "      cursor: pointer;\n",
              "      display: none;\n",
              "      fill: #1967D2;\n",
              "      height: 32px;\n",
              "      padding: 0 0 0 0;\n",
              "      width: 32px;\n",
              "    }\n",
              "\n",
              "    .colab-df-convert:hover {\n",
              "      background-color: #E2EBFA;\n",
              "      box-shadow: 0px 1px 2px rgba(60, 64, 67, 0.3), 0px 1px 3px 1px rgba(60, 64, 67, 0.15);\n",
              "      fill: #174EA6;\n",
              "    }\n",
              "\n",
              "    [theme=dark] .colab-df-convert {\n",
              "      background-color: #3B4455;\n",
              "      fill: #D2E3FC;\n",
              "    }\n",
              "\n",
              "    [theme=dark] .colab-df-convert:hover {\n",
              "      background-color: #434B5C;\n",
              "      box-shadow: 0px 1px 3px 1px rgba(0, 0, 0, 0.15);\n",
              "      filter: drop-shadow(0px 1px 2px rgba(0, 0, 0, 0.3));\n",
              "      fill: #FFFFFF;\n",
              "    }\n",
              "  </style>\n",
              "\n",
              "      <script>\n",
              "        const buttonEl =\n",
              "          document.querySelector('#df-845d7047-35f5-4b95-bc12-2556a7e6da11 button.colab-df-convert');\n",
              "        buttonEl.style.display =\n",
              "          google.colab.kernel.accessAllowed ? 'block' : 'none';\n",
              "\n",
              "        async function convertToInteractive(key) {\n",
              "          const element = document.querySelector('#df-845d7047-35f5-4b95-bc12-2556a7e6da11');\n",
              "          const dataTable =\n",
              "            await google.colab.kernel.invokeFunction('convertToInteractive',\n",
              "                                                     [key], {});\n",
              "          if (!dataTable) return;\n",
              "\n",
              "          const docLinkHtml = 'Like what you see? Visit the ' +\n",
              "            '<a target=\"_blank\" href=https://colab.research.google.com/notebooks/data_table.ipynb>data table notebook</a>'\n",
              "            + ' to learn more about interactive tables.';\n",
              "          element.innerHTML = '';\n",
              "          dataTable['output_type'] = 'display_data';\n",
              "          await google.colab.output.renderOutput(dataTable, element);\n",
              "          const docLink = document.createElement('div');\n",
              "          docLink.innerHTML = docLinkHtml;\n",
              "          element.appendChild(docLink);\n",
              "        }\n",
              "      </script>\n",
              "    </div>\n",
              "  </div>\n",
              "  "
            ]
          },
          "metadata": {},
          "execution_count": 386
        }
      ]
    },
    {
      "cell_type": "code",
      "source": [
        "df1['Duration'] = df1['EndDateTime'] - df1['StartDateTime']\n",
        "df1['Duration'] = df1['Duration'] / np.timedelta64(1, 'h')"
      ],
      "metadata": {
        "id": "bVgVNeCLInhZ"
      },
      "execution_count": 387,
      "outputs": []
    },
    {
      "cell_type": "code",
      "source": [
        "#df1 = df1.drop(columns=['StartDateTime','EndDateTime'])\n",
        "df1 = df1.drop(columns=['StartDateTime'])\n",
        "df1=df1[['Connector','EndDateTime','Duration','Site','Model','Total kWh']]\n",
        "df1"
      ],
      "metadata": {
        "colab": {
          "base_uri": "https://localhost:8080/",
          "height": 424
        },
        "id": "LR1NPtRRKOOY",
        "outputId": "99341810-47f1-407d-ce00-f89c107eb994"
      },
      "execution_count": 388,
      "outputs": [
        {
          "output_type": "execute_result",
          "data": {
            "text/plain": [
              "       Connector         EndDateTime  Duration  \\\n",
              "0              2 2017-08-31 23:11:00  0.983333   \n",
              "1              1 2017-08-31 22:31:00  0.500000   \n",
              "2              2 2017-08-31 21:59:00  0.633333   \n",
              "3              2 2017-08-31 21:03:00  0.333333   \n",
              "4              2 2017-08-31 20:50:00  1.000000   \n",
              "...          ...                 ...       ...   \n",
              "13671          2 2016-01-09 09:37:00  0.250000   \n",
              "13672          1 2016-01-09 16:37:00  7.716667   \n",
              "13673          1 2016-01-09 14:32:00  6.166667   \n",
              "13674          2 2016-01-09 09:01:00  1.166667   \n",
              "13675          1 2016-01-09 07:27:00  0.100000   \n",
              "\n",
              "                                        Site                         Model  \\\n",
              "0                 Broxden Park & Ride, Perth      APT Triple Rapid Charger   \n",
              "1      Crown Inn Wynd Car Park, Auchterarder  Siemens Triple Rapid Charger   \n",
              "2                 South Inch Car Park, Perth      APT Triple Rapid Charger   \n",
              "3                      Kinross Park and Ride      APT Triple Rapid Charger   \n",
              "4        Leslie Street Car Park, Blairgowrie      APT Triple Rapid Charger   \n",
              "...                                      ...                           ...   \n",
              "13671                  Kinross Park and Ride      APT Triple Rapid Charger   \n",
              "13672     Rie-Achan Road Car Park, Pitlochry          APT 22kW Dual Outlet   \n",
              "13673                    Broxden Park & Ride          APT 22kW Dual Outlet   \n",
              "13674     Rie-Achan Road Car Park, Pitlochry          APT 22kW Dual Outlet   \n",
              "13675    Leslie Street Car Park, Blairgowrie      APT Triple Rapid Charger   \n",
              "\n",
              "       Total kWh  \n",
              "0         18.270  \n",
              "1         19.450  \n",
              "2         19.710  \n",
              "3          9.840  \n",
              "4         14.170  \n",
              "...          ...  \n",
              "13671      3.580  \n",
              "13672     10.380  \n",
              "13673     13.930  \n",
              "13674      3.870  \n",
              "13675      2.084  \n",
              "\n",
              "[13639 rows x 6 columns]"
            ],
            "text/html": [
              "\n",
              "  <div id=\"df-3a5a5f50-1225-4618-8940-467e4d34c304\">\n",
              "    <div class=\"colab-df-container\">\n",
              "      <div>\n",
              "<style scoped>\n",
              "    .dataframe tbody tr th:only-of-type {\n",
              "        vertical-align: middle;\n",
              "    }\n",
              "\n",
              "    .dataframe tbody tr th {\n",
              "        vertical-align: top;\n",
              "    }\n",
              "\n",
              "    .dataframe thead th {\n",
              "        text-align: right;\n",
              "    }\n",
              "</style>\n",
              "<table border=\"1\" class=\"dataframe\">\n",
              "  <thead>\n",
              "    <tr style=\"text-align: right;\">\n",
              "      <th></th>\n",
              "      <th>Connector</th>\n",
              "      <th>EndDateTime</th>\n",
              "      <th>Duration</th>\n",
              "      <th>Site</th>\n",
              "      <th>Model</th>\n",
              "      <th>Total kWh</th>\n",
              "    </tr>\n",
              "  </thead>\n",
              "  <tbody>\n",
              "    <tr>\n",
              "      <th>0</th>\n",
              "      <td>2</td>\n",
              "      <td>2017-08-31 23:11:00</td>\n",
              "      <td>0.983333</td>\n",
              "      <td>Broxden Park &amp; Ride, Perth</td>\n",
              "      <td>APT Triple Rapid Charger</td>\n",
              "      <td>18.270</td>\n",
              "    </tr>\n",
              "    <tr>\n",
              "      <th>1</th>\n",
              "      <td>1</td>\n",
              "      <td>2017-08-31 22:31:00</td>\n",
              "      <td>0.500000</td>\n",
              "      <td>Crown Inn Wynd Car Park, Auchterarder</td>\n",
              "      <td>Siemens Triple Rapid Charger</td>\n",
              "      <td>19.450</td>\n",
              "    </tr>\n",
              "    <tr>\n",
              "      <th>2</th>\n",
              "      <td>2</td>\n",
              "      <td>2017-08-31 21:59:00</td>\n",
              "      <td>0.633333</td>\n",
              "      <td>South Inch Car Park, Perth</td>\n",
              "      <td>APT Triple Rapid Charger</td>\n",
              "      <td>19.710</td>\n",
              "    </tr>\n",
              "    <tr>\n",
              "      <th>3</th>\n",
              "      <td>2</td>\n",
              "      <td>2017-08-31 21:03:00</td>\n",
              "      <td>0.333333</td>\n",
              "      <td>Kinross Park and Ride</td>\n",
              "      <td>APT Triple Rapid Charger</td>\n",
              "      <td>9.840</td>\n",
              "    </tr>\n",
              "    <tr>\n",
              "      <th>4</th>\n",
              "      <td>2</td>\n",
              "      <td>2017-08-31 20:50:00</td>\n",
              "      <td>1.000000</td>\n",
              "      <td>Leslie Street Car Park, Blairgowrie</td>\n",
              "      <td>APT Triple Rapid Charger</td>\n",
              "      <td>14.170</td>\n",
              "    </tr>\n",
              "    <tr>\n",
              "      <th>...</th>\n",
              "      <td>...</td>\n",
              "      <td>...</td>\n",
              "      <td>...</td>\n",
              "      <td>...</td>\n",
              "      <td>...</td>\n",
              "      <td>...</td>\n",
              "    </tr>\n",
              "    <tr>\n",
              "      <th>13671</th>\n",
              "      <td>2</td>\n",
              "      <td>2016-01-09 09:37:00</td>\n",
              "      <td>0.250000</td>\n",
              "      <td>Kinross Park and Ride</td>\n",
              "      <td>APT Triple Rapid Charger</td>\n",
              "      <td>3.580</td>\n",
              "    </tr>\n",
              "    <tr>\n",
              "      <th>13672</th>\n",
              "      <td>1</td>\n",
              "      <td>2016-01-09 16:37:00</td>\n",
              "      <td>7.716667</td>\n",
              "      <td>Rie-Achan Road Car Park, Pitlochry</td>\n",
              "      <td>APT 22kW Dual Outlet</td>\n",
              "      <td>10.380</td>\n",
              "    </tr>\n",
              "    <tr>\n",
              "      <th>13673</th>\n",
              "      <td>1</td>\n",
              "      <td>2016-01-09 14:32:00</td>\n",
              "      <td>6.166667</td>\n",
              "      <td>Broxden Park &amp; Ride</td>\n",
              "      <td>APT 22kW Dual Outlet</td>\n",
              "      <td>13.930</td>\n",
              "    </tr>\n",
              "    <tr>\n",
              "      <th>13674</th>\n",
              "      <td>2</td>\n",
              "      <td>2016-01-09 09:01:00</td>\n",
              "      <td>1.166667</td>\n",
              "      <td>Rie-Achan Road Car Park, Pitlochry</td>\n",
              "      <td>APT 22kW Dual Outlet</td>\n",
              "      <td>3.870</td>\n",
              "    </tr>\n",
              "    <tr>\n",
              "      <th>13675</th>\n",
              "      <td>1</td>\n",
              "      <td>2016-01-09 07:27:00</td>\n",
              "      <td>0.100000</td>\n",
              "      <td>Leslie Street Car Park, Blairgowrie</td>\n",
              "      <td>APT Triple Rapid Charger</td>\n",
              "      <td>2.084</td>\n",
              "    </tr>\n",
              "  </tbody>\n",
              "</table>\n",
              "<p>13639 rows × 6 columns</p>\n",
              "</div>\n",
              "      <button class=\"colab-df-convert\" onclick=\"convertToInteractive('df-3a5a5f50-1225-4618-8940-467e4d34c304')\"\n",
              "              title=\"Convert this dataframe to an interactive table.\"\n",
              "              style=\"display:none;\">\n",
              "        \n",
              "  <svg xmlns=\"http://www.w3.org/2000/svg\" height=\"24px\"viewBox=\"0 0 24 24\"\n",
              "       width=\"24px\">\n",
              "    <path d=\"M0 0h24v24H0V0z\" fill=\"none\"/>\n",
              "    <path d=\"M18.56 5.44l.94 2.06.94-2.06 2.06-.94-2.06-.94-.94-2.06-.94 2.06-2.06.94zm-11 1L8.5 8.5l.94-2.06 2.06-.94-2.06-.94L8.5 2.5l-.94 2.06-2.06.94zm10 10l.94 2.06.94-2.06 2.06-.94-2.06-.94-.94-2.06-.94 2.06-2.06.94z\"/><path d=\"M17.41 7.96l-1.37-1.37c-.4-.4-.92-.59-1.43-.59-.52 0-1.04.2-1.43.59L10.3 9.45l-7.72 7.72c-.78.78-.78 2.05 0 2.83L4 21.41c.39.39.9.59 1.41.59.51 0 1.02-.2 1.41-.59l7.78-7.78 2.81-2.81c.8-.78.8-2.07 0-2.86zM5.41 20L4 18.59l7.72-7.72 1.47 1.35L5.41 20z\"/>\n",
              "  </svg>\n",
              "      </button>\n",
              "      \n",
              "  <style>\n",
              "    .colab-df-container {\n",
              "      display:flex;\n",
              "      flex-wrap:wrap;\n",
              "      gap: 12px;\n",
              "    }\n",
              "\n",
              "    .colab-df-convert {\n",
              "      background-color: #E8F0FE;\n",
              "      border: none;\n",
              "      border-radius: 50%;\n",
              "      cursor: pointer;\n",
              "      display: none;\n",
              "      fill: #1967D2;\n",
              "      height: 32px;\n",
              "      padding: 0 0 0 0;\n",
              "      width: 32px;\n",
              "    }\n",
              "\n",
              "    .colab-df-convert:hover {\n",
              "      background-color: #E2EBFA;\n",
              "      box-shadow: 0px 1px 2px rgba(60, 64, 67, 0.3), 0px 1px 3px 1px rgba(60, 64, 67, 0.15);\n",
              "      fill: #174EA6;\n",
              "    }\n",
              "\n",
              "    [theme=dark] .colab-df-convert {\n",
              "      background-color: #3B4455;\n",
              "      fill: #D2E3FC;\n",
              "    }\n",
              "\n",
              "    [theme=dark] .colab-df-convert:hover {\n",
              "      background-color: #434B5C;\n",
              "      box-shadow: 0px 1px 3px 1px rgba(0, 0, 0, 0.15);\n",
              "      filter: drop-shadow(0px 1px 2px rgba(0, 0, 0, 0.3));\n",
              "      fill: #FFFFFF;\n",
              "    }\n",
              "  </style>\n",
              "\n",
              "      <script>\n",
              "        const buttonEl =\n",
              "          document.querySelector('#df-3a5a5f50-1225-4618-8940-467e4d34c304 button.colab-df-convert');\n",
              "        buttonEl.style.display =\n",
              "          google.colab.kernel.accessAllowed ? 'block' : 'none';\n",
              "\n",
              "        async function convertToInteractive(key) {\n",
              "          const element = document.querySelector('#df-3a5a5f50-1225-4618-8940-467e4d34c304');\n",
              "          const dataTable =\n",
              "            await google.colab.kernel.invokeFunction('convertToInteractive',\n",
              "                                                     [key], {});\n",
              "          if (!dataTable) return;\n",
              "\n",
              "          const docLinkHtml = 'Like what you see? Visit the ' +\n",
              "            '<a target=\"_blank\" href=https://colab.research.google.com/notebooks/data_table.ipynb>data table notebook</a>'\n",
              "            + ' to learn more about interactive tables.';\n",
              "          element.innerHTML = '';\n",
              "          dataTable['output_type'] = 'display_data';\n",
              "          await google.colab.output.renderOutput(dataTable, element);\n",
              "          const docLink = document.createElement('div');\n",
              "          docLink.innerHTML = docLinkHtml;\n",
              "          element.appendChild(docLink);\n",
              "        }\n",
              "      </script>\n",
              "    </div>\n",
              "  </div>\n",
              "  "
            ]
          },
          "metadata": {},
          "execution_count": 388
        }
      ]
    },
    {
      "cell_type": "code",
      "source": [
        "# Import label encoder \n",
        "from sklearn import preprocessing\n",
        "site_le = preprocessing.LabelEncoder()\n",
        "df1['Site_le'] = site_le.fit_transform(df1['Site']) \n",
        "model_le = preprocessing.LabelEncoder()\n",
        "df1['Model_le'] = model_le.fit_transform(df1['Model'])"
      ],
      "metadata": {
        "id": "HlmQGaiTTEVi"
      },
      "execution_count": 389,
      "outputs": []
    },
    {
      "cell_type": "code",
      "source": [
        "df1 = df1.drop(columns=['Site','Model'])\n",
        "df2=df1[['EndDateTime','Connector','Duration','Site_le','Model_le','Total kWh']]"
      ],
      "metadata": {
        "id": "qAvD9SN6T4K1"
      },
      "execution_count": 390,
      "outputs": []
    },
    {
      "cell_type": "code",
      "source": [
        "df2"
      ],
      "metadata": {
        "colab": {
          "base_uri": "https://localhost:8080/",
          "height": 424
        },
        "id": "b09z_N03TYR6",
        "outputId": "44a46c3d-7cd4-45c2-9732-6cf2e3b108d4"
      },
      "execution_count": 391,
      "outputs": [
        {
          "output_type": "execute_result",
          "data": {
            "text/plain": [
              "              EndDateTime  Connector  Duration  Site_le  Model_le  Total kWh\n",
              "0     2017-08-31 23:11:00          2  0.983333        4         2     18.270\n",
              "1     2017-08-31 22:31:00          1  0.500000        8         5     19.450\n",
              "2     2017-08-31 21:59:00          2  0.633333       17         2     19.710\n",
              "3     2017-08-31 21:03:00          2  0.333333       13         2      9.840\n",
              "4     2017-08-31 20:50:00          2  1.000000        0         2     14.170\n",
              "...                   ...        ...       ...      ...       ...        ...\n",
              "13671 2016-01-09 09:37:00          2  0.250000       13         2      3.580\n",
              "13672 2016-01-09 16:37:00          1  7.716667       15         0     10.380\n",
              "13673 2016-01-09 14:32:00          1  6.166667        3         0     13.930\n",
              "13674 2016-01-09 09:01:00          2  1.166667       15         0      3.870\n",
              "13675 2016-01-09 07:27:00          1  0.100000        0         2      2.084\n",
              "\n",
              "[13639 rows x 6 columns]"
            ],
            "text/html": [
              "\n",
              "  <div id=\"df-d8711228-a37d-4809-8132-4b0ca1c4f8eb\">\n",
              "    <div class=\"colab-df-container\">\n",
              "      <div>\n",
              "<style scoped>\n",
              "    .dataframe tbody tr th:only-of-type {\n",
              "        vertical-align: middle;\n",
              "    }\n",
              "\n",
              "    .dataframe tbody tr th {\n",
              "        vertical-align: top;\n",
              "    }\n",
              "\n",
              "    .dataframe thead th {\n",
              "        text-align: right;\n",
              "    }\n",
              "</style>\n",
              "<table border=\"1\" class=\"dataframe\">\n",
              "  <thead>\n",
              "    <tr style=\"text-align: right;\">\n",
              "      <th></th>\n",
              "      <th>EndDateTime</th>\n",
              "      <th>Connector</th>\n",
              "      <th>Duration</th>\n",
              "      <th>Site_le</th>\n",
              "      <th>Model_le</th>\n",
              "      <th>Total kWh</th>\n",
              "    </tr>\n",
              "  </thead>\n",
              "  <tbody>\n",
              "    <tr>\n",
              "      <th>0</th>\n",
              "      <td>2017-08-31 23:11:00</td>\n",
              "      <td>2</td>\n",
              "      <td>0.983333</td>\n",
              "      <td>4</td>\n",
              "      <td>2</td>\n",
              "      <td>18.270</td>\n",
              "    </tr>\n",
              "    <tr>\n",
              "      <th>1</th>\n",
              "      <td>2017-08-31 22:31:00</td>\n",
              "      <td>1</td>\n",
              "      <td>0.500000</td>\n",
              "      <td>8</td>\n",
              "      <td>5</td>\n",
              "      <td>19.450</td>\n",
              "    </tr>\n",
              "    <tr>\n",
              "      <th>2</th>\n",
              "      <td>2017-08-31 21:59:00</td>\n",
              "      <td>2</td>\n",
              "      <td>0.633333</td>\n",
              "      <td>17</td>\n",
              "      <td>2</td>\n",
              "      <td>19.710</td>\n",
              "    </tr>\n",
              "    <tr>\n",
              "      <th>3</th>\n",
              "      <td>2017-08-31 21:03:00</td>\n",
              "      <td>2</td>\n",
              "      <td>0.333333</td>\n",
              "      <td>13</td>\n",
              "      <td>2</td>\n",
              "      <td>9.840</td>\n",
              "    </tr>\n",
              "    <tr>\n",
              "      <th>4</th>\n",
              "      <td>2017-08-31 20:50:00</td>\n",
              "      <td>2</td>\n",
              "      <td>1.000000</td>\n",
              "      <td>0</td>\n",
              "      <td>2</td>\n",
              "      <td>14.170</td>\n",
              "    </tr>\n",
              "    <tr>\n",
              "      <th>...</th>\n",
              "      <td>...</td>\n",
              "      <td>...</td>\n",
              "      <td>...</td>\n",
              "      <td>...</td>\n",
              "      <td>...</td>\n",
              "      <td>...</td>\n",
              "    </tr>\n",
              "    <tr>\n",
              "      <th>13671</th>\n",
              "      <td>2016-01-09 09:37:00</td>\n",
              "      <td>2</td>\n",
              "      <td>0.250000</td>\n",
              "      <td>13</td>\n",
              "      <td>2</td>\n",
              "      <td>3.580</td>\n",
              "    </tr>\n",
              "    <tr>\n",
              "      <th>13672</th>\n",
              "      <td>2016-01-09 16:37:00</td>\n",
              "      <td>1</td>\n",
              "      <td>7.716667</td>\n",
              "      <td>15</td>\n",
              "      <td>0</td>\n",
              "      <td>10.380</td>\n",
              "    </tr>\n",
              "    <tr>\n",
              "      <th>13673</th>\n",
              "      <td>2016-01-09 14:32:00</td>\n",
              "      <td>1</td>\n",
              "      <td>6.166667</td>\n",
              "      <td>3</td>\n",
              "      <td>0</td>\n",
              "      <td>13.930</td>\n",
              "    </tr>\n",
              "    <tr>\n",
              "      <th>13674</th>\n",
              "      <td>2016-01-09 09:01:00</td>\n",
              "      <td>2</td>\n",
              "      <td>1.166667</td>\n",
              "      <td>15</td>\n",
              "      <td>0</td>\n",
              "      <td>3.870</td>\n",
              "    </tr>\n",
              "    <tr>\n",
              "      <th>13675</th>\n",
              "      <td>2016-01-09 07:27:00</td>\n",
              "      <td>1</td>\n",
              "      <td>0.100000</td>\n",
              "      <td>0</td>\n",
              "      <td>2</td>\n",
              "      <td>2.084</td>\n",
              "    </tr>\n",
              "  </tbody>\n",
              "</table>\n",
              "<p>13639 rows × 6 columns</p>\n",
              "</div>\n",
              "      <button class=\"colab-df-convert\" onclick=\"convertToInteractive('df-d8711228-a37d-4809-8132-4b0ca1c4f8eb')\"\n",
              "              title=\"Convert this dataframe to an interactive table.\"\n",
              "              style=\"display:none;\">\n",
              "        \n",
              "  <svg xmlns=\"http://www.w3.org/2000/svg\" height=\"24px\"viewBox=\"0 0 24 24\"\n",
              "       width=\"24px\">\n",
              "    <path d=\"M0 0h24v24H0V0z\" fill=\"none\"/>\n",
              "    <path d=\"M18.56 5.44l.94 2.06.94-2.06 2.06-.94-2.06-.94-.94-2.06-.94 2.06-2.06.94zm-11 1L8.5 8.5l.94-2.06 2.06-.94-2.06-.94L8.5 2.5l-.94 2.06-2.06.94zm10 10l.94 2.06.94-2.06 2.06-.94-2.06-.94-.94-2.06-.94 2.06-2.06.94z\"/><path d=\"M17.41 7.96l-1.37-1.37c-.4-.4-.92-.59-1.43-.59-.52 0-1.04.2-1.43.59L10.3 9.45l-7.72 7.72c-.78.78-.78 2.05 0 2.83L4 21.41c.39.39.9.59 1.41.59.51 0 1.02-.2 1.41-.59l7.78-7.78 2.81-2.81c.8-.78.8-2.07 0-2.86zM5.41 20L4 18.59l7.72-7.72 1.47 1.35L5.41 20z\"/>\n",
              "  </svg>\n",
              "      </button>\n",
              "      \n",
              "  <style>\n",
              "    .colab-df-container {\n",
              "      display:flex;\n",
              "      flex-wrap:wrap;\n",
              "      gap: 12px;\n",
              "    }\n",
              "\n",
              "    .colab-df-convert {\n",
              "      background-color: #E8F0FE;\n",
              "      border: none;\n",
              "      border-radius: 50%;\n",
              "      cursor: pointer;\n",
              "      display: none;\n",
              "      fill: #1967D2;\n",
              "      height: 32px;\n",
              "      padding: 0 0 0 0;\n",
              "      width: 32px;\n",
              "    }\n",
              "\n",
              "    .colab-df-convert:hover {\n",
              "      background-color: #E2EBFA;\n",
              "      box-shadow: 0px 1px 2px rgba(60, 64, 67, 0.3), 0px 1px 3px 1px rgba(60, 64, 67, 0.15);\n",
              "      fill: #174EA6;\n",
              "    }\n",
              "\n",
              "    [theme=dark] .colab-df-convert {\n",
              "      background-color: #3B4455;\n",
              "      fill: #D2E3FC;\n",
              "    }\n",
              "\n",
              "    [theme=dark] .colab-df-convert:hover {\n",
              "      background-color: #434B5C;\n",
              "      box-shadow: 0px 1px 3px 1px rgba(0, 0, 0, 0.15);\n",
              "      filter: drop-shadow(0px 1px 2px rgba(0, 0, 0, 0.3));\n",
              "      fill: #FFFFFF;\n",
              "    }\n",
              "  </style>\n",
              "\n",
              "      <script>\n",
              "        const buttonEl =\n",
              "          document.querySelector('#df-d8711228-a37d-4809-8132-4b0ca1c4f8eb button.colab-df-convert');\n",
              "        buttonEl.style.display =\n",
              "          google.colab.kernel.accessAllowed ? 'block' : 'none';\n",
              "\n",
              "        async function convertToInteractive(key) {\n",
              "          const element = document.querySelector('#df-d8711228-a37d-4809-8132-4b0ca1c4f8eb');\n",
              "          const dataTable =\n",
              "            await google.colab.kernel.invokeFunction('convertToInteractive',\n",
              "                                                     [key], {});\n",
              "          if (!dataTable) return;\n",
              "\n",
              "          const docLinkHtml = 'Like what you see? Visit the ' +\n",
              "            '<a target=\"_blank\" href=https://colab.research.google.com/notebooks/data_table.ipynb>data table notebook</a>'\n",
              "            + ' to learn more about interactive tables.';\n",
              "          element.innerHTML = '';\n",
              "          dataTable['output_type'] = 'display_data';\n",
              "          await google.colab.output.renderOutput(dataTable, element);\n",
              "          const docLink = document.createElement('div');\n",
              "          docLink.innerHTML = docLinkHtml;\n",
              "          element.appendChild(docLink);\n",
              "        }\n",
              "      </script>\n",
              "    </div>\n",
              "  </div>\n",
              "  "
            ]
          },
          "metadata": {},
          "execution_count": 391
        }
      ]
    },
    {
      "cell_type": "code",
      "source": [
        "df2.set_index('EndDateTime')[['Connector','Duration','Site_le','Model_le','Total kWh']].plot(subplots= True)"
      ],
      "metadata": {
        "colab": {
          "base_uri": "https://localhost:8080/",
          "height": 570
        },
        "id": "QqkZb6B4UnIk",
        "outputId": "c97a7945-cfc1-44e8-9b3a-37e1f5e58ba1"
      },
      "execution_count": 392,
      "outputs": [
        {
          "output_type": "execute_result",
          "data": {
            "text/plain": [
              "array([<matplotlib.axes._subplots.AxesSubplot object at 0x7fca254eac10>,\n",
              "       <matplotlib.axes._subplots.AxesSubplot object at 0x7fca2422d590>,\n",
              "       <matplotlib.axes._subplots.AxesSubplot object at 0x7fca254e4810>,\n",
              "       <matplotlib.axes._subplots.AxesSubplot object at 0x7fca2445a150>,\n",
              "       <matplotlib.axes._subplots.AxesSubplot object at 0x7fca249f1c10>],\n",
              "      dtype=object)"
            ]
          },
          "metadata": {},
          "execution_count": 392
        },
        {
          "output_type": "display_data",
          "data": {
            "text/plain": [
              "<Figure size 720x576 with 5 Axes>"
            ],
            "image/png": "[encoded data removed]"
          },
          "metadata": {
            "needs_background": "light"
          }
        }
      ]
    },
    {
      "cell_type": "code",
      "source": [
        "#df2 = df2.drop(columns=['EndDateTime'])\n",
        "#df3=df2[['Connector','Duration','Site_le','Model_le','Total kWh']]\n",
        "\n",
        "df2 = df2.drop(columns=['Duration','Connector','Site_le','Model_le'])\n",
        "df3=df2[['EndDateTime','Total kWh']]\n",
        "\n",
        "#df2 = df2.drop(columns=['EndDateTime','Connector','Site_le','Model_le'])\n",
        "#df3=df2[['Duration','Total kWh']]"
      ],
      "metadata": {
        "id": "8U4cz42SVZnd"
      },
      "execution_count": 393,
      "outputs": []
    },
    {
      "cell_type": "code",
      "source": [
        "df3"
      ],
      "metadata": {
        "colab": {
          "base_uri": "https://localhost:8080/",
          "height": 424
        },
        "id": "xqQS8Ok4VNr7",
        "outputId": "af2aad80-390d-4b9f-9dd2-d9d617e4a041"
      },
      "execution_count": 394,
      "outputs": [
        {
          "output_type": "execute_result",
          "data": {
            "text/plain": [
              "              EndDateTime  Total kWh\n",
              "0     2017-08-31 23:11:00     18.270\n",
              "1     2017-08-31 22:31:00     19.450\n",
              "2     2017-08-31 21:59:00     19.710\n",
              "3     2017-08-31 21:03:00      9.840\n",
              "4     2017-08-31 20:50:00     14.170\n",
              "...                   ...        ...\n",
              "13671 2016-01-09 09:37:00      3.580\n",
              "13672 2016-01-09 16:37:00     10.380\n",
              "13673 2016-01-09 14:32:00     13.930\n",
              "13674 2016-01-09 09:01:00      3.870\n",
              "13675 2016-01-09 07:27:00      2.084\n",
              "\n",
              "[13639 rows x 2 columns]"
            ],
            "text/html": [
              "\n",
              "  <div id=\"df-c73ec641-f682-44b3-b1f3-df7f28b1ea70\">\n",
              "    <div class=\"colab-df-container\">\n",
              "      <div>\n",
              "<style scoped>\n",
              "    .dataframe tbody tr th:only-of-type {\n",
              "        vertical-align: middle;\n",
              "    }\n",
              "\n",
              "    .dataframe tbody tr th {\n",
              "        vertical-align: top;\n",
              "    }\n",
              "\n",
              "    .dataframe thead th {\n",
              "        text-align: right;\n",
              "    }\n",
              "</style>\n",
              "<table border=\"1\" class=\"dataframe\">\n",
              "  <thead>\n",
              "    <tr style=\"text-align: right;\">\n",
              "      <th></th>\n",
              "      <th>EndDateTime</th>\n",
              "      <th>Total kWh</th>\n",
              "    </tr>\n",
              "  </thead>\n",
              "  <tbody>\n",
              "    <tr>\n",
              "      <th>0</th>\n",
              "      <td>2017-08-31 23:11:00</td>\n",
              "      <td>18.270</td>\n",
              "    </tr>\n",
              "    <tr>\n",
              "      <th>1</th>\n",
              "      <td>2017-08-31 22:31:00</td>\n",
              "      <td>19.450</td>\n",
              "    </tr>\n",
              "    <tr>\n",
              "      <th>2</th>\n",
              "      <td>2017-08-31 21:59:00</td>\n",
              "      <td>19.710</td>\n",
              "    </tr>\n",
              "    <tr>\n",
              "      <th>3</th>\n",
              "      <td>2017-08-31 21:03:00</td>\n",
              "      <td>9.840</td>\n",
              "    </tr>\n",
              "    <tr>\n",
              "      <th>4</th>\n",
              "      <td>2017-08-31 20:50:00</td>\n",
              "      <td>14.170</td>\n",
              "    </tr>\n",
              "    <tr>\n",
              "      <th>...</th>\n",
              "      <td>...</td>\n",
              "      <td>...</td>\n",
              "    </tr>\n",
              "    <tr>\n",
              "      <th>13671</th>\n",
              "      <td>2016-01-09 09:37:00</td>\n",
              "      <td>3.580</td>\n",
              "    </tr>\n",
              "    <tr>\n",
              "      <th>13672</th>\n",
              "      <td>2016-01-09 16:37:00</td>\n",
              "      <td>10.380</td>\n",
              "    </tr>\n",
              "    <tr>\n",
              "      <th>13673</th>\n",
              "      <td>2016-01-09 14:32:00</td>\n",
              "      <td>13.930</td>\n",
              "    </tr>\n",
              "    <tr>\n",
              "      <th>13674</th>\n",
              "      <td>2016-01-09 09:01:00</td>\n",
              "      <td>3.870</td>\n",
              "    </tr>\n",
              "    <tr>\n",
              "      <th>13675</th>\n",
              "      <td>2016-01-09 07:27:00</td>\n",
              "      <td>2.084</td>\n",
              "    </tr>\n",
              "  </tbody>\n",
              "</table>\n",
              "<p>13639 rows × 2 columns</p>\n",
              "</div>\n",
              "      <button class=\"colab-df-convert\" onclick=\"convertToInteractive('df-c73ec641-f682-44b3-b1f3-df7f28b1ea70')\"\n",
              "              title=\"Convert this dataframe to an interactive table.\"\n",
              "              style=\"display:none;\">\n",
              "        \n",
              "  <svg xmlns=\"http://www.w3.org/2000/svg\" height=\"24px\"viewBox=\"0 0 24 24\"\n",
              "       width=\"24px\">\n",
              "    <path d=\"M0 0h24v24H0V0z\" fill=\"none\"/>\n",
              "    <path d=\"M18.56 5.44l.94 2.06.94-2.06 2.06-.94-2.06-.94-.94-2.06-.94 2.06-2.06.94zm-11 1L8.5 8.5l.94-2.06 2.06-.94-2.06-.94L8.5 2.5l-.94 2.06-2.06.94zm10 10l.94 2.06.94-2.06 2.06-.94-2.06-.94-.94-2.06-.94 2.06-2.06.94z\"/><path d=\"M17.41 7.96l-1.37-1.37c-.4-.4-.92-.59-1.43-.59-.52 0-1.04.2-1.43.59L10.3 9.45l-7.72 7.72c-.78.78-.78 2.05 0 2.83L4 21.41c.39.39.9.59 1.41.59.51 0 1.02-.2 1.41-.59l7.78-7.78 2.81-2.81c.8-.78.8-2.07 0-2.86zM5.41 20L4 18.59l7.72-7.72 1.47 1.35L5.41 20z\"/>\n",
              "  </svg>\n",
              "      </button>\n",
              "      \n",
              "  <style>\n",
              "    .colab-df-container {\n",
              "      display:flex;\n",
              "      flex-wrap:wrap;\n",
              "      gap: 12px;\n",
              "    }\n",
              "\n",
              "    .colab-df-convert {\n",
              "      background-color: #E8F0FE;\n",
              "      border: none;\n",
              "      border-radius: 50%;\n",
              "      cursor: pointer;\n",
              "      display: none;\n",
              "      fill: #1967D2;\n",
              "      height: 32px;\n",
              "      padding: 0 0 0 0;\n",
              "      width: 32px;\n",
              "    }\n",
              "\n",
              "    .colab-df-convert:hover {\n",
              "      background-color: #E2EBFA;\n",
              "      box-shadow: 0px 1px 2px rgba(60, 64, 67, 0.3), 0px 1px 3px 1px rgba(60, 64, 67, 0.15);\n",
              "      fill: #174EA6;\n",
              "    }\n",
              "\n",
              "    [theme=dark] .colab-df-convert {\n",
              "      background-color: #3B4455;\n",
              "      fill: #D2E3FC;\n",
              "    }\n",
              "\n",
              "    [theme=dark] .colab-df-convert:hover {\n",
              "      background-color: #434B5C;\n",
              "      box-shadow: 0px 1px 3px 1px rgba(0, 0, 0, 0.15);\n",
              "      filter: drop-shadow(0px 1px 2px rgba(0, 0, 0, 0.3));\n",
              "      fill: #FFFFFF;\n",
              "    }\n",
              "  </style>\n",
              "\n",
              "      <script>\n",
              "        const buttonEl =\n",
              "          document.querySelector('#df-c73ec641-f682-44b3-b1f3-df7f28b1ea70 button.colab-df-convert');\n",
              "        buttonEl.style.display =\n",
              "          google.colab.kernel.accessAllowed ? 'block' : 'none';\n",
              "\n",
              "        async function convertToInteractive(key) {\n",
              "          const element = document.querySelector('#df-c73ec641-f682-44b3-b1f3-df7f28b1ea70');\n",
              "          const dataTable =\n",
              "            await google.colab.kernel.invokeFunction('convertToInteractive',\n",
              "                                                     [key], {});\n",
              "          if (!dataTable) return;\n",
              "\n",
              "          const docLinkHtml = 'Like what you see? Visit the ' +\n",
              "            '<a target=\"_blank\" href=https://colab.research.google.com/notebooks/data_table.ipynb>data table notebook</a>'\n",
              "            + ' to learn more about interactive tables.';\n",
              "          element.innerHTML = '';\n",
              "          dataTable['output_type'] = 'display_data';\n",
              "          await google.colab.output.renderOutput(dataTable, element);\n",
              "          const docLink = document.createElement('div');\n",
              "          docLink.innerHTML = docLinkHtml;\n",
              "          element.appendChild(docLink);\n",
              "        }\n",
              "      </script>\n",
              "    </div>\n",
              "  </div>\n",
              "  "
            ]
          },
          "metadata": {},
          "execution_count": 394
        }
      ]
    },
    {
      "cell_type": "code",
      "source": [
        "#df3_input=df3[['Connector','Duration','Site_le','Model_le','Total kwh']]\n",
        "df3.dtypes"
      ],
      "metadata": {
        "id": "wuU5I2l6VjNS",
        "outputId": "513e71d1-cedd-4879-9238-8bda278a1996",
        "colab": {
          "base_uri": "https://localhost:8080/"
        }
      },
      "execution_count": 395,
      "outputs": [
        {
          "output_type": "execute_result",
          "data": {
            "text/plain": [
              "EndDateTime    datetime64[ns]\n",
              "Total kWh             float64\n",
              "dtype: object"
            ]
          },
          "metadata": {},
          "execution_count": 395
        }
      ]
    },
    {
      "cell_type": "code",
      "source": [
        "df3['EndDateTime']=df3['EndDateTime'].values.astype(float)"
      ],
      "metadata": {
        "id": "ltN6K2XGhCLc"
      },
      "execution_count": 396,
      "outputs": []
    },
    {
      "cell_type": "code",
      "source": [
        "df3.dtypes"
      ],
      "metadata": {
        "id": "Ks7_X_CghInd",
        "outputId": "16c9905f-2c88-41a8-c643-81564e4a1910",
        "colab": {
          "base_uri": "https://localhost:8080/"
        }
      },
      "execution_count": 397,
      "outputs": [
        {
          "output_type": "execute_result",
          "data": {
            "text/plain": [
              "EndDateTime    float64\n",
              "Total kWh      float64\n",
              "dtype: object"
            ]
          },
          "metadata": {},
          "execution_count": 397
        }
      ]
    },
    {
      "cell_type": "code",
      "source": [
        "df3_input = df3\n",
        "#df3_input = df3['EndDateTime']"
      ],
      "metadata": {
        "id": "Nfv6zjsNVwk9"
      },
      "execution_count": 398,
      "outputs": []
    },
    {
      "cell_type": "code",
      "source": [
        "df3_input"
      ],
      "metadata": {
        "id": "h4pNula8oWBp",
        "outputId": "7009e384-050d-4a57-87fd-53c3801f2532",
        "colab": {
          "base_uri": "https://localhost:8080/",
          "height": 424
        }
      },
      "execution_count": 438,
      "outputs": [
        {
          "output_type": "execute_result",
          "data": {
            "text/plain": [
              "        EndDateTime  Total kWh\n",
              "0      1.504221e+18     18.270\n",
              "1      1.504219e+18     19.450\n",
              "2      1.504217e+18     19.710\n",
              "3      1.504213e+18      9.840\n",
              "4      1.504213e+18     14.170\n",
              "...             ...        ...\n",
              "13671  1.452332e+18      3.580\n",
              "13672  1.452357e+18     10.380\n",
              "13673  1.452350e+18     13.930\n",
              "13674  1.452330e+18      3.870\n",
              "13675  1.452324e+18      2.084\n",
              "\n",
              "[13639 rows x 2 columns]"
            ],
            "text/html": [
              "\n",
              "  <div id=\"df-e36f0aa2-9c2d-4021-a0c1-3e058ba4192d\">\n",
              "    <div class=\"colab-df-container\">\n",
              "      <div>\n",
              "<style scoped>\n",
              "    .dataframe tbody tr th:only-of-type {\n",
              "        vertical-align: middle;\n",
              "    }\n",
              "\n",
              "    .dataframe tbody tr th {\n",
              "        vertical-align: top;\n",
              "    }\n",
              "\n",
              "    .dataframe thead th {\n",
              "        text-align: right;\n",
              "    }\n",
              "</style>\n",
              "<table border=\"1\" class=\"dataframe\">\n",
              "  <thead>\n",
              "    <tr style=\"text-align: right;\">\n",
              "      <th></th>\n",
              "      <th>EndDateTime</th>\n",
              "      <th>Total kWh</th>\n",
              "    </tr>\n",
              "  </thead>\n",
              "  <tbody>\n",
              "    <tr>\n",
              "      <th>0</th>\n",
              "      <td>1.504221e+18</td>\n",
              "      <td>18.270</td>\n",
              "    </tr>\n",
              "    <tr>\n",
              "      <th>1</th>\n",
              "      <td>1.504219e+18</td>\n",
              "      <td>19.450</td>\n",
              "    </tr>\n",
              "    <tr>\n",
              "      <th>2</th>\n",
              "      <td>1.504217e+18</td>\n",
              "      <td>19.710</td>\n",
              "    </tr>\n",
              "    <tr>\n",
              "      <th>3</th>\n",
              "      <td>1.504213e+18</td>\n",
              "      <td>9.840</td>\n",
              "    </tr>\n",
              "    <tr>\n",
              "      <th>4</th>\n",
              "      <td>1.504213e+18</td>\n",
              "      <td>14.170</td>\n",
              "    </tr>\n",
              "    <tr>\n",
              "      <th>...</th>\n",
              "      <td>...</td>\n",
              "      <td>...</td>\n",
              "    </tr>\n",
              "    <tr>\n",
              "      <th>13671</th>\n",
              "      <td>1.452332e+18</td>\n",
              "      <td>3.580</td>\n",
              "    </tr>\n",
              "    <tr>\n",
              "      <th>13672</th>\n",
              "      <td>1.452357e+18</td>\n",
              "      <td>10.380</td>\n",
              "    </tr>\n",
              "    <tr>\n",
              "      <th>13673</th>\n",
              "      <td>1.452350e+18</td>\n",
              "      <td>13.930</td>\n",
              "    </tr>\n",
              "    <tr>\n",
              "      <th>13674</th>\n",
              "      <td>1.452330e+18</td>\n",
              "      <td>3.870</td>\n",
              "    </tr>\n",
              "    <tr>\n",
              "      <th>13675</th>\n",
              "      <td>1.452324e+18</td>\n",
              "      <td>2.084</td>\n",
              "    </tr>\n",
              "  </tbody>\n",
              "</table>\n",
              "<p>13639 rows × 2 columns</p>\n",
              "</div>\n",
              "      <button class=\"colab-df-convert\" onclick=\"convertToInteractive('df-e36f0aa2-9c2d-4021-a0c1-3e058ba4192d')\"\n",
              "              title=\"Convert this dataframe to an interactive table.\"\n",
              "              style=\"display:none;\">\n",
              "        \n",
              "  <svg xmlns=\"http://www.w3.org/2000/svg\" height=\"24px\"viewBox=\"0 0 24 24\"\n",
              "       width=\"24px\">\n",
              "    <path d=\"M0 0h24v24H0V0z\" fill=\"none\"/>\n",
              "    <path d=\"M18.56 5.44l.94 2.06.94-2.06 2.06-.94-2.06-.94-.94-2.06-.94 2.06-2.06.94zm-11 1L8.5 8.5l.94-2.06 2.06-.94-2.06-.94L8.5 2.5l-.94 2.06-2.06.94zm10 10l.94 2.06.94-2.06 2.06-.94-2.06-.94-.94-2.06-.94 2.06-2.06.94z\"/><path d=\"M17.41 7.96l-1.37-1.37c-.4-.4-.92-.59-1.43-.59-.52 0-1.04.2-1.43.59L10.3 9.45l-7.72 7.72c-.78.78-.78 2.05 0 2.83L4 21.41c.39.39.9.59 1.41.59.51 0 1.02-.2 1.41-.59l7.78-7.78 2.81-2.81c.8-.78.8-2.07 0-2.86zM5.41 20L4 18.59l7.72-7.72 1.47 1.35L5.41 20z\"/>\n",
              "  </svg>\n",
              "      </button>\n",
              "      \n",
              "  <style>\n",
              "    .colab-df-container {\n",
              "      display:flex;\n",
              "      flex-wrap:wrap;\n",
              "      gap: 12px;\n",
              "    }\n",
              "\n",
              "    .colab-df-convert {\n",
              "      background-color: #E8F0FE;\n",
              "      border: none;\n",
              "      border-radius: 50%;\n",
              "      cursor: pointer;\n",
              "      display: none;\n",
              "      fill: #1967D2;\n",
              "      height: 32px;\n",
              "      padding: 0 0 0 0;\n",
              "      width: 32px;\n",
              "    }\n",
              "\n",
              "    .colab-df-convert:hover {\n",
              "      background-color: #E2EBFA;\n",
              "      box-shadow: 0px 1px 2px rgba(60, 64, 67, 0.3), 0px 1px 3px 1px rgba(60, 64, 67, 0.15);\n",
              "      fill: #174EA6;\n",
              "    }\n",
              "\n",
              "    [theme=dark] .colab-df-convert {\n",
              "      background-color: #3B4455;\n",
              "      fill: #D2E3FC;\n",
              "    }\n",
              "\n",
              "    [theme=dark] .colab-df-convert:hover {\n",
              "      background-color: #434B5C;\n",
              "      box-shadow: 0px 1px 3px 1px rgba(0, 0, 0, 0.15);\n",
              "      filter: drop-shadow(0px 1px 2px rgba(0, 0, 0, 0.3));\n",
              "      fill: #FFFFFF;\n",
              "    }\n",
              "  </style>\n",
              "\n",
              "      <script>\n",
              "        const buttonEl =\n",
              "          document.querySelector('#df-e36f0aa2-9c2d-4021-a0c1-3e058ba4192d button.colab-df-convert');\n",
              "        buttonEl.style.display =\n",
              "          google.colab.kernel.accessAllowed ? 'block' : 'none';\n",
              "\n",
              "        async function convertToInteractive(key) {\n",
              "          const element = document.querySelector('#df-e36f0aa2-9c2d-4021-a0c1-3e058ba4192d');\n",
              "          const dataTable =\n",
              "            await google.colab.kernel.invokeFunction('convertToInteractive',\n",
              "                                                     [key], {});\n",
              "          if (!dataTable) return;\n",
              "\n",
              "          const docLinkHtml = 'Like what you see? Visit the ' +\n",
              "            '<a target=\"_blank\" href=https://colab.research.google.com/notebooks/data_table.ipynb>data table notebook</a>'\n",
              "            + ' to learn more about interactive tables.';\n",
              "          element.innerHTML = '';\n",
              "          dataTable['output_type'] = 'display_data';\n",
              "          await google.colab.output.renderOutput(dataTable, element);\n",
              "          const docLink = document.createElement('div');\n",
              "          docLink.innerHTML = docLinkHtml;\n",
              "          element.appendChild(docLink);\n",
              "        }\n",
              "      </script>\n",
              "    </div>\n",
              "  </div>\n",
              "  "
            ]
          },
          "metadata": {},
          "execution_count": 438
        }
      ]
    },
    {
      "cell_type": "code",
      "source": [
        "#feature1 = df3_input['EndDateTime']"
      ],
      "metadata": {
        "id": "HY-6myNjkZKr"
      },
      "execution_count": 399,
      "outputs": []
    },
    {
      "cell_type": "code",
      "source": [
        "#feature1"
      ],
      "metadata": {
        "id": "k4WvXBbAkk8K"
      },
      "execution_count": 400,
      "outputs": []
    },
    {
      "cell_type": "code",
      "source": [
        "#target1 = df3_input['Total kWh']"
      ],
      "metadata": {
        "id": "rpLfYxU0koSy"
      },
      "execution_count": 401,
      "outputs": []
    },
    {
      "cell_type": "code",
      "source": [
        "#target1"
      ],
      "metadata": {
        "id": "r6I3i3aCksw3"
      },
      "execution_count": 402,
      "outputs": []
    },
    {
      "cell_type": "code",
      "source": [
        "df3_input.dtypes"
      ],
      "metadata": {
        "id": "ZDQ0kkvJk1Kr",
        "outputId": "ee55ccdf-20a8-4445-9d10-5c750b40fb37",
        "colab": {
          "base_uri": "https://localhost:8080/"
        }
      },
      "execution_count": 403,
      "outputs": [
        {
          "output_type": "execute_result",
          "data": {
            "text/plain": [
              "EndDateTime    float64\n",
              "Total kWh      float64\n",
              "dtype: object"
            ]
          },
          "metadata": {},
          "execution_count": 403
        }
      ]
    },
    {
      "cell_type": "code",
      "source": [
        "#df3_input.describe()"
      ],
      "metadata": {
        "id": "H8iXq8rfVzGH"
      },
      "execution_count": 404,
      "outputs": []
    },
    {
      "cell_type": "code",
      "source": [
        "scaler = MinMaxScaler()\n",
        "df3_scaled = scaler.fit_transform(df3_input)"
      ],
      "metadata": {
        "id": "weBsDFe6V4sv"
      },
      "execution_count": null,
      "outputs": []
    },
    {
      "cell_type": "code",
      "source": [
        "#features = df3_scaled\n",
        "#target= df3_scaled[:,0]"
      ],
      "metadata": {
        "id": "rlz6i6xiWIu8"
      },
      "execution_count": 406,
      "outputs": []
    },
    {
      "cell_type": "code",
      "source": [
        "features = df3_scaled\n",
        "target= df3_scaled[:,0]"
      ],
      "metadata": {
        "id": "ItcaYdnSjZZZ"
      },
      "execution_count": 407,
      "outputs": []
    },
    {
      "cell_type": "code",
      "source": [
        "TimeseriesGenerator(features, target, length=2, sampling_rate=1, batch_size=1)[0]\n",
        "\n",
        "#TimeseriesGenerator(feature1, target1, length=2, sampling_rate=1, batch_size=1)[0]"
      ],
      "metadata": {
        "colab": {
          "base_uri": "https://localhost:8080/"
        },
        "id": "EH5JScmpWfNa",
        "outputId": "975c0cb0-1b2a-4675-c65e-4b27d10d9e98"
      },
      "execution_count": 408,
      "outputs": [
        {
          "output_type": "execute_result",
          "data": {
            "text/plain": [
              "(array([[[0.99434472, 0.23053628],\n",
              "         [0.99434313, 0.24542587]]]), array([0.99434186]))"
            ]
          },
          "metadata": {},
          "execution_count": 408
        }
      ]
    },
    {
      "cell_type": "code",
      "source": [
        "x_train, x_test, y_train, y_test = train_test_split(features, target, test_size=0.20, random_state=123, shuffle=False)\n",
        "\n",
        "#x_train, x_test, y_train, y_test = train_test_split(feature1, target1, test_size=0.20, random_state=123, shuffle=False)"
      ],
      "metadata": {
        "id": "2NjTljfGWvXu"
      },
      "execution_count": 409,
      "outputs": []
    },
    {
      "cell_type": "code",
      "source": [
        "x_train.shape"
      ],
      "metadata": {
        "colab": {
          "base_uri": "https://localhost:8080/"
        },
        "id": "m2BbnhKiXB5i",
        "outputId": "75b4f0a6-7ce2-48b9-b7c0-68b665c1aefe"
      },
      "execution_count": 410,
      "outputs": [
        {
          "output_type": "execute_result",
          "data": {
            "text/plain": [
              "(10911, 2)"
            ]
          },
          "metadata": {},
          "execution_count": 410
        }
      ]
    },
    {
      "cell_type": "code",
      "source": [
        "x_test.shape"
      ],
      "metadata": {
        "colab": {
          "base_uri": "https://localhost:8080/"
        },
        "id": "r_uNBxS-XGI9",
        "outputId": "b0705c77-2786-451d-c142-85d954fa1edd"
      },
      "execution_count": 411,
      "outputs": [
        {
          "output_type": "execute_result",
          "data": {
            "text/plain": [
              "(2728, 2)"
            ]
          },
          "metadata": {},
          "execution_count": 411
        }
      ]
    },
    {
      "cell_type": "code",
      "source": [
        "win_length=720\n",
        "batch_size=32\n",
        "num_features = 4\n",
        "train_generator = TimeseriesGenerator(x_train, y_train, length=win_length, sampling_rate=1,batch_size=batch_size)\n",
        "test_generator = TimeseriesGenerator(x_test, y_test, length=win_length, sampling_rate=1,batch_size=batch_size)"
      ],
      "metadata": {
        "id": "8QTOYio2XHxI"
      },
      "execution_count": 412,
      "outputs": []
    },
    {
      "cell_type": "code",
      "source": [
        "len(train_generator[0][1])"
      ],
      "metadata": {
        "id": "LOFquuTFPWyo",
        "outputId": "35f8fede-98d6-437e-8712-2643eab34f77",
        "colab": {
          "base_uri": "https://localhost:8080/"
        }
      },
      "execution_count": 413,
      "outputs": [
        {
          "output_type": "execute_result",
          "data": {
            "text/plain": [
              "32"
            ]
          },
          "metadata": {},
          "execution_count": 413
        }
      ]
    },
    {
      "cell_type": "code",
      "source": [
        "train_generator[0]"
      ],
      "metadata": {
        "colab": {
          "base_uri": "https://localhost:8080/"
        },
        "id": "2On7mYzGX6-t",
        "outputId": "369d3ad2-8336-4eb5-eff8-cf2e9cb401c8"
      },
      "execution_count": 414,
      "outputs": [
        {
          "output_type": "execute_result",
          "data": {
            "text/plain": [
              "(array([[[0.99434472, 0.23053628],\n",
              "         [0.99434313, 0.24542587],\n",
              "         [0.99434186, 0.24870662],\n",
              "         ...,\n",
              "         [0.99352803, 0.11987382],\n",
              "         [0.99352902, 0.12290221],\n",
              "         [0.99353009, 0.01998738]],\n",
              " \n",
              "        [[0.99434313, 0.24542587],\n",
              "         [0.99434186, 0.24870662],\n",
              "         [0.99433964, 0.12416404],\n",
              "         ...,\n",
              "         [0.99352902, 0.12290221],\n",
              "         [0.99353009, 0.01998738],\n",
              "         [0.99352799, 0.27760252]],\n",
              " \n",
              "        [[0.99434186, 0.24870662],\n",
              "         [0.99433964, 0.12416404],\n",
              "         [0.99433912, 0.17880126],\n",
              "         ...,\n",
              "         [0.99353009, 0.01998738],\n",
              "         [0.99352799, 0.27760252],\n",
              "         [0.99352775, 0.23078864]],\n",
              " \n",
              "        ...,\n",
              " \n",
              "        [[0.99431608, 0.06052997],\n",
              "         [0.99431453, 0.11280757],\n",
              "         [0.99433131, 0.16820189],\n",
              "         ...,\n",
              "         [0.99353184, 0.24455521],\n",
              "         [0.99350927, 0.07962145],\n",
              "         [0.99350871, 0.0126183 ]],\n",
              " \n",
              "        [[0.99431453, 0.11280757],\n",
              "         [0.99433131, 0.16820189],\n",
              "         [0.99432814, 0.06788644],\n",
              "         ...,\n",
              "         [0.99350927, 0.07962145],\n",
              "         [0.99350871, 0.0126183 ],\n",
              "         [0.99349348, 0.41640379]],\n",
              " \n",
              "        [[0.99433131, 0.16820189],\n",
              "         [0.99432814, 0.06788644],\n",
              "         [0.99431838, 0.08946372],\n",
              "         ...,\n",
              "         [0.99350871, 0.0126183 ],\n",
              "         [0.99349348, 0.41640379],\n",
              "         [0.99349106, 0.46687697]]]),\n",
              " array([0.99352799, 0.99352775, 0.99352787, 0.99352708, 0.9935266 ,\n",
              "        0.99352712, 0.99353834, 0.99352502, 0.99352533, 0.99352434,\n",
              "        0.99353231, 0.99352275, 0.99352149, 0.99352129, 0.99351911,\n",
              "        0.99352985, 0.99352307, 0.99352216, 0.99351831, 0.99351534,\n",
              "        0.99351411, 0.9935151 , 0.99352831, 0.99351966, 0.99351601,\n",
              "        0.99350986, 0.99353184, 0.99350927, 0.99350871, 0.99349348,\n",
              "        0.99349106, 0.99348892]))"
            ]
          },
          "metadata": {},
          "execution_count": 414
        }
      ]
    },
    {
      "cell_type": "code",
      "source": [
        "model = tf.keras.Sequential()\n",
        "model.add(tf.keras.layers.LSTM(128, input_shape=(win_length,num_features),return_sequences=True))\n",
        "model.add(tf.keras.layers.LeakyReLU(alpha=0.5))\n",
        "model.add(tf.keras.layers.LSTM(128, return_sequences=True))\n",
        "model.add(tf.keras.layers.LeakyReLU(alpha=0.5))\n",
        "model.add(tf.keras.layers.Dropout(0.3))\n",
        "model.add(tf.keras.layers.LSTM(64, return_sequences=False))\n",
        "model.add(tf.keras.layers.Dropout(0.3))\n",
        "model.add(tf.keras.layers.Dense(1))"
      ],
      "metadata": {
        "id": "JXtZukw_YAAK"
      },
      "execution_count": 415,
      "outputs": []
    },
    {
      "cell_type": "code",
      "source": [
        "model.summary()"
      ],
      "metadata": {
        "colab": {
          "base_uri": "https://localhost:8080/"
        },
        "id": "bwjTIxSmY8Bn",
        "outputId": "d1f4ab73-56e6-40f4-92f2-de981e480cf9"
      },
      "execution_count": 416,
      "outputs": [
        {
          "output_type": "stream",
          "name": "stdout",
          "text": [
            "Model: \"sequential_6\"\n",
            "_________________________________________________________________\n",
            " Layer (type)                Output Shape              Param #   \n",
            "=================================================================\n",
            " lstm_18 (LSTM)              (None, 720, 128)          68096     \n",
            "                                                                 \n",
            " leaky_re_lu_12 (LeakyReLU)  (None, 720, 128)          0         \n",
            "                                                                 \n",
            " lstm_19 (LSTM)              (None, 720, 128)          131584    \n",
            "                                                                 \n",
            " leaky_re_lu_13 (LeakyReLU)  (None, 720, 128)          0         \n",
            "                                                                 \n",
            " dropout_12 (Dropout)        (None, 720, 128)          0         \n",
            "                                                                 \n",
            " lstm_20 (LSTM)              (None, 64)                49408     \n",
            "                                                                 \n",
            " dropout_13 (Dropout)        (None, 64)                0         \n",
            "                                                                 \n",
            " dense_6 (Dense)             (None, 1)                 65        \n",
            "                                                                 \n",
            "=================================================================\n",
            "Total params: 249,153\n",
            "Trainable params: 249,153\n",
            "Non-trainable params: 0\n",
            "_________________________________________________________________\n"
          ]
        }
      ]
    },
    {
      "cell_type": "code",
      "source": [
        "early_stopping = tf.keras.callbacks.EarlyStopping(monitor='val_loss',patience=2,mode='min')"
      ],
      "metadata": {
        "id": "yaohU0KoZDac"
      },
      "execution_count": 417,
      "outputs": []
    },
    {
      "cell_type": "code",
      "source": [
        "model.compile(loss=tf.losses.MeanSquaredError(),\n",
        "              optimizer = tf.optimizers.Adam(),\n",
        "              metrics =[tf.metrics.MeanAbsoluteError()])"
      ],
      "metadata": {
        "id": "wG_5cqU3ZPHN"
      },
      "execution_count": 418,
      "outputs": []
    },
    {
      "cell_type": "code",
      "source": [
        "history = model.fit_generator(train_generator, epochs=20,\n",
        "                              validation_data = test_generator,\n",
        "                              shuffle = False,\n",
        "                              callbacks=[early_stopping])"
      ],
      "metadata": {
        "colab": {
          "base_uri": "https://localhost:8080/"
        },
        "id": "_S-Uer4JZrVE",
        "outputId": "7ab7762a-c087-4993-da3e-ed3ec5f8e840"
      },
      "execution_count": 419,
      "outputs": [
        {
          "output_type": "stream",
          "name": "stdout",
          "text": [
            "Epoch 1/20\n"
          ]
        },
        {
          "output_type": "stream",
          "name": "stderr",
          "text": [
            "/usr/local/lib/python3.7/dist-packages/ipykernel_launcher.py:4: UserWarning: `Model.fit_generator` is deprecated and will be removed in a future version. Please use `Model.fit`, which supports generators.\n",
            "  after removing the cwd from sys.path.\n"
          ]
        },
        {
          "output_type": "stream",
          "name": "stdout",
          "text": [
            "319/319 [==============================] - 35s 96ms/step - loss: 0.0208 - mean_absolute_error: 0.0946 - val_loss: 8.0994e-04 - val_mean_absolute_error: 0.0282\n",
            "Epoch 2/20\n",
            "319/319 [==============================] - 27s 85ms/step - loss: 0.0072 - mean_absolute_error: 0.0674 - val_loss: 5.0218e-04 - val_mean_absolute_error: 0.0221\n",
            "Epoch 3/20\n",
            "319/319 [==============================] - 27s 85ms/step - loss: 0.0065 - mean_absolute_error: 0.0637 - val_loss: 1.2249e-04 - val_mean_absolute_error: 0.0103\n",
            "Epoch 4/20\n",
            "319/319 [==============================] - 27s 84ms/step - loss: 0.0057 - mean_absolute_error: 0.0596 - val_loss: 7.9229e-04 - val_mean_absolute_error: 0.0278\n",
            "Epoch 5/20\n",
            "319/319 [==============================] - 27s 83ms/step - loss: 0.0049 - mean_absolute_error: 0.0556 - val_loss: 1.3013e-04 - val_mean_absolute_error: 0.0106\n"
          ]
        }
      ]
    },
    {
      "cell_type": "code",
      "source": [
        "model.evaluate_generator(test_generator,verbose=1)"
      ],
      "metadata": {
        "colab": {
          "base_uri": "https://localhost:8080/"
        },
        "id": "3Ubd5_BMaKog",
        "outputId": "38d3bd22-d6d2-472a-b0a3-6f1919e4828b"
      },
      "execution_count": 420,
      "outputs": [
        {
          "output_type": "stream",
          "name": "stderr",
          "text": [
            "/usr/local/lib/python3.7/dist-packages/ipykernel_launcher.py:1: UserWarning: `Model.evaluate_generator` is deprecated and will be removed in a future version. Please use `Model.evaluate`, which supports generators.\n",
            "  \"\"\"Entry point for launching an IPython kernel.\n"
          ]
        },
        {
          "output_type": "stream",
          "name": "stdout",
          "text": [
            "63/63 [==============================] - 2s 37ms/step - loss: 1.3013e-04 - mean_absolute_error: 0.0106\n"
          ]
        },
        {
          "output_type": "execute_result",
          "data": {
            "text/plain": [
              "[0.00013013197167310864, 0.010627035051584244]"
            ]
          },
          "metadata": {},
          "execution_count": 420
        }
      ]
    },
    {
      "cell_type": "code",
      "source": [
        "predictions=model.predict_generator(test_generator)"
      ],
      "metadata": {
        "colab": {
          "base_uri": "https://localhost:8080/"
        },
        "id": "UtqZUu_xaENp",
        "outputId": "27ec03e6-d294-4e4c-e565-265f8e641d56"
      },
      "execution_count": 421,
      "outputs": [
        {
          "output_type": "stream",
          "name": "stderr",
          "text": [
            "/usr/local/lib/python3.7/dist-packages/ipykernel_launcher.py:1: UserWarning: `Model.predict_generator` is deprecated and will be removed in a future version. Please use `Model.predict`, which supports generators.\n",
            "  \"\"\"Entry point for launching an IPython kernel.\n"
          ]
        }
      ]
    },
    {
      "cell_type": "code",
      "source": [
        "predictions.shape[0]"
      ],
      "metadata": {
        "colab": {
          "base_uri": "https://localhost:8080/"
        },
        "id": "hljH9ti3bV2v",
        "outputId": "e5bda8d3-caa2-4dd7-ed98-773105e215e1"
      },
      "execution_count": 422,
      "outputs": [
        {
          "output_type": "execute_result",
          "data": {
            "text/plain": [
              "2008"
            ]
          },
          "metadata": {},
          "execution_count": 422
        }
      ]
    },
    {
      "cell_type": "code",
      "source": [
        "predictions"
      ],
      "metadata": {
        "colab": {
          "base_uri": "https://localhost:8080/"
        },
        "id": "oGGMDk2kbYNB",
        "outputId": "9b559ca9-3b60-4e40-b112-9f80b31076b5"
      },
      "execution_count": 423,
      "outputs": [
        {
          "output_type": "execute_result",
          "data": {
            "text/plain": [
              "array([[0.9629427],\n",
              "       [0.9629719],\n",
              "       [0.9629701],\n",
              "       ...,\n",
              "       [0.9616127],\n",
              "       [0.9616263],\n",
              "       [0.9616262]], dtype=float32)"
            ]
          },
          "metadata": {},
          "execution_count": 423
        }
      ]
    },
    {
      "cell_type": "code",
      "source": [
        "y_test"
      ],
      "metadata": {
        "colab": {
          "base_uri": "https://localhost:8080/"
        },
        "id": "IavGpTJebZZ0",
        "outputId": "94bc5d09-a9f2-401e-ddfd-58eeeb731edb"
      },
      "execution_count": 424,
      "outputs": [
        {
          "output_type": "execute_result",
          "data": {
            "text/plain": [
              "array([0.97806018, 0.97806014, 0.97806688, ..., 0.96005593, 0.9600428 ,\n",
              "       0.96003907])"
            ]
          },
          "metadata": {},
          "execution_count": 424
        }
      ]
    },
    {
      "cell_type": "code",
      "source": [
        "x_test"
      ],
      "metadata": {
        "colab": {
          "base_uri": "https://localhost:8080/"
        },
        "id": "rqovYj6dbbwi",
        "outputId": "50b4427f-aea5-4a25-e18e-2987a9070796"
      },
      "execution_count": 425,
      "outputs": [
        {
          "output_type": "execute_result",
          "data": {
            "text/plain": [
              "array([[0.97806018, 0.        ],\n",
              "       [0.97806014, 0.        ],\n",
              "       [0.97806688, 0.11785489],\n",
              "       ...,\n",
              "       [0.96005593, 0.17577287],\n",
              "       [0.9600428 , 0.04883281],\n",
              "       [0.96003907, 0.02629653]])"
            ]
          },
          "metadata": {},
          "execution_count": 425
        }
      ]
    },
    {
      "cell_type": "code",
      "source": [
        "x_test[:,1:][win_length:]"
      ],
      "metadata": {
        "colab": {
          "base_uri": "https://localhost:8080/"
        },
        "id": "8yeJywd9bf26",
        "outputId": "a687eb47-17ef-4f05-f682-e7f05e624bf2"
      },
      "execution_count": 426,
      "outputs": [
        {
          "output_type": "execute_result",
          "data": {
            "text/plain": [
              "array([[0.0844164 ],\n",
              "       [0.03886435],\n",
              "       [0.04769716],\n",
              "       ...,\n",
              "       [0.17577287],\n",
              "       [0.04883281],\n",
              "       [0.02629653]])"
            ]
          },
          "metadata": {},
          "execution_count": 426
        }
      ]
    },
    {
      "cell_type": "code",
      "source": [
        "df_pred=pd.concat([pd.DataFrame(predictions),pd.DataFrame(x_test[:,1:][win_length:])],axis=1)"
      ],
      "metadata": {
        "id": "eGQWvx3JbqEp"
      },
      "execution_count": 427,
      "outputs": []
    },
    {
      "cell_type": "code",
      "source": [
        "rev_trans = scaler.inverse_transform(df_pred)"
      ],
      "metadata": {
        "id": "SJcnKf0yb6d4"
      },
      "execution_count": 428,
      "outputs": []
    },
    {
      "cell_type": "code",
      "source": [
        "rev_trans"
      ],
      "metadata": {
        "colab": {
          "base_uri": "https://localhost:8080/"
        },
        "id": "Xni12z9NcC38",
        "outputId": "40919e11-f3f6-41b6-fdbd-953de684f817"
      },
      "execution_count": 429,
      "outputs": [
        {
          "output_type": "execute_result",
          "data": {
            "text/plain": [
              "array([[1.45671698e+18, 6.69000000e+00],\n",
              "       [1.45676116e+18, 3.08000000e+00],\n",
              "       [1.45675837e+18, 3.78000000e+00],\n",
              "       ...,\n",
              "       [1.45470497e+18, 1.39300000e+01],\n",
              "       [1.45472552e+18, 3.87000000e+00],\n",
              "       [1.45472534e+18, 2.08400000e+00]])"
            ]
          },
          "metadata": {},
          "execution_count": 429
        }
      ]
    },
    {
      "cell_type": "code",
      "source": [
        "df_final=df3_input[predictions.shape[0]*-1:]"
      ],
      "metadata": {
        "id": "DDaQaSLqcDps"
      },
      "execution_count": 430,
      "outputs": []
    },
    {
      "cell_type": "code",
      "source": [
        "df_final.count()"
      ],
      "metadata": {
        "colab": {
          "base_uri": "https://localhost:8080/"
        },
        "id": "LXpo-KjGcMl0",
        "outputId": "898f8936-84fb-49e2-cf4e-e87e3ae383be"
      },
      "execution_count": 431,
      "outputs": [
        {
          "output_type": "execute_result",
          "data": {
            "text/plain": [
              "EndDateTime    2008\n",
              "Total kWh      2008\n",
              "dtype: int64"
            ]
          },
          "metadata": {},
          "execution_count": 431
        }
      ]
    },
    {
      "cell_type": "code",
      "source": [
        "df_final['App_Pred']=rev_trans[:,0]\n"
      ],
      "metadata": {
        "colab": {
          "base_uri": "https://localhost:8080/"
        },
        "id": "tjyY_lorcTpy",
        "outputId": "16843da6-3649-4c49-e7c6-37dd44f34c71"
      },
      "execution_count": 441,
      "outputs": [
        {
          "output_type": "stream",
          "name": "stderr",
          "text": [
            "/usr/local/lib/python3.7/dist-packages/ipykernel_launcher.py:1: SettingWithCopyWarning: \n",
            "A value is trying to be set on a copy of a slice from a DataFrame.\n",
            "Try using .loc[row_indexer,col_indexer] = value instead\n",
            "\n",
            "See the caveats in the documentation: https://pandas.pydata.org/pandas-docs/stable/user_guide/indexing.html#returning-a-view-versus-a-copy\n",
            "  \"\"\"Entry point for launching an IPython kernel.\n"
          ]
        }
      ]
    },
    {
      "cell_type": "code",
      "source": [
        "df_final"
      ],
      "metadata": {
        "colab": {
          "base_uri": "https://localhost:8080/",
          "height": 424
        },
        "id": "r24L2ykGcccG",
        "outputId": "fc8b9377-cd64-41ba-a8e6-42bc861681c2"
      },
      "execution_count": 433,
      "outputs": [
        {
          "output_type": "execute_result",
          "data": {
            "text/plain": [
              "        EndDateTime  Total kWh      App_Pred\n",
              "11663  1.477760e+18      6.690  1.456717e+18\n",
              "11664  1.477752e+18      3.080  1.456761e+18\n",
              "11665  1.477749e+18      3.780  1.456758e+18\n",
              "11666  1.477746e+18      1.380  1.456712e+18\n",
              "11667  1.477744e+18      3.230  1.456631e+18\n",
              "...             ...        ...           ...\n",
              "13671  1.452332e+18      3.580  1.454694e+18\n",
              "13672  1.452357e+18     10.380  1.454714e+18\n",
              "13673  1.452350e+18     13.930  1.454705e+18\n",
              "13674  1.452330e+18      3.870  1.454726e+18\n",
              "13675  1.452324e+18      2.084  1.454725e+18\n",
              "\n",
              "[2008 rows x 3 columns]"
            ],
            "text/html": [
              "\n",
              "  <div id=\"df-36961daa-8e65-4f08-b5b4-9607d13f45bc\">\n",
              "    <div class=\"colab-df-container\">\n",
              "      <div>\n",
              "<style scoped>\n",
              "    .dataframe tbody tr th:only-of-type {\n",
              "        vertical-align: middle;\n",
              "    }\n",
              "\n",
              "    .dataframe tbody tr th {\n",
              "        vertical-align: top;\n",
              "    }\n",
              "\n",
              "    .dataframe thead th {\n",
              "        text-align: right;\n",
              "    }\n",
              "</style>\n",
              "<table border=\"1\" class=\"dataframe\">\n",
              "  <thead>\n",
              "    <tr style=\"text-align: right;\">\n",
              "      <th></th>\n",
              "      <th>EndDateTime</th>\n",
              "      <th>Total kWh</th>\n",
              "      <th>App_Pred</th>\n",
              "    </tr>\n",
              "  </thead>\n",
              "  <tbody>\n",
              "    <tr>\n",
              "      <th>11663</th>\n",
              "      <td>1.477760e+18</td>\n",
              "      <td>6.690</td>\n",
              "      <td>1.456717e+18</td>\n",
              "    </tr>\n",
              "    <tr>\n",
              "      <th>11664</th>\n",
              "      <td>1.477752e+18</td>\n",
              "      <td>3.080</td>\n",
              "      <td>1.456761e+18</td>\n",
              "    </tr>\n",
              "    <tr>\n",
              "      <th>11665</th>\n",
              "      <td>1.477749e+18</td>\n",
              "      <td>3.780</td>\n",
              "      <td>1.456758e+18</td>\n",
              "    </tr>\n",
              "    <tr>\n",
              "      <th>11666</th>\n",
              "      <td>1.477746e+18</td>\n",
              "      <td>1.380</td>\n",
              "      <td>1.456712e+18</td>\n",
              "    </tr>\n",
              "    <tr>\n",
              "      <th>11667</th>\n",
              "      <td>1.477744e+18</td>\n",
              "      <td>3.230</td>\n",
              "      <td>1.456631e+18</td>\n",
              "    </tr>\n",
              "    <tr>\n",
              "      <th>...</th>\n",
              "      <td>...</td>\n",
              "      <td>...</td>\n",
              "      <td>...</td>\n",
              "    </tr>\n",
              "    <tr>\n",
              "      <th>13671</th>\n",
              "      <td>1.452332e+18</td>\n",
              "      <td>3.580</td>\n",
              "      <td>1.454694e+18</td>\n",
              "    </tr>\n",
              "    <tr>\n",
              "      <th>13672</th>\n",
              "      <td>1.452357e+18</td>\n",
              "      <td>10.380</td>\n",
              "      <td>1.454714e+18</td>\n",
              "    </tr>\n",
              "    <tr>\n",
              "      <th>13673</th>\n",
              "      <td>1.452350e+18</td>\n",
              "      <td>13.930</td>\n",
              "      <td>1.454705e+18</td>\n",
              "    </tr>\n",
              "    <tr>\n",
              "      <th>13674</th>\n",
              "      <td>1.452330e+18</td>\n",
              "      <td>3.870</td>\n",
              "      <td>1.454726e+18</td>\n",
              "    </tr>\n",
              "    <tr>\n",
              "      <th>13675</th>\n",
              "      <td>1.452324e+18</td>\n",
              "      <td>2.084</td>\n",
              "      <td>1.454725e+18</td>\n",
              "    </tr>\n",
              "  </tbody>\n",
              "</table>\n",
              "<p>2008 rows × 3 columns</p>\n",
              "</div>\n",
              "      <button class=\"colab-df-convert\" onclick=\"convertToInteractive('df-36961daa-8e65-4f08-b5b4-9607d13f45bc')\"\n",
              "              title=\"Convert this dataframe to an interactive table.\"\n",
              "              style=\"display:none;\">\n",
              "        \n",
              "  <svg xmlns=\"http://www.w3.org/2000/svg\" height=\"24px\"viewBox=\"0 0 24 24\"\n",
              "       width=\"24px\">\n",
              "    <path d=\"M0 0h24v24H0V0z\" fill=\"none\"/>\n",
              "    <path d=\"M18.56 5.44l.94 2.06.94-2.06 2.06-.94-2.06-.94-.94-2.06-.94 2.06-2.06.94zm-11 1L8.5 8.5l.94-2.06 2.06-.94-2.06-.94L8.5 2.5l-.94 2.06-2.06.94zm10 10l.94 2.06.94-2.06 2.06-.94-2.06-.94-.94-2.06-.94 2.06-2.06.94z\"/><path d=\"M17.41 7.96l-1.37-1.37c-.4-.4-.92-.59-1.43-.59-.52 0-1.04.2-1.43.59L10.3 9.45l-7.72 7.72c-.78.78-.78 2.05 0 2.83L4 21.41c.39.39.9.59 1.41.59.51 0 1.02-.2 1.41-.59l7.78-7.78 2.81-2.81c.8-.78.8-2.07 0-2.86zM5.41 20L4 18.59l7.72-7.72 1.47 1.35L5.41 20z\"/>\n",
              "  </svg>\n",
              "      </button>\n",
              "      \n",
              "  <style>\n",
              "    .colab-df-container {\n",
              "      display:flex;\n",
              "      flex-wrap:wrap;\n",
              "      gap: 12px;\n",
              "    }\n",
              "\n",
              "    .colab-df-convert {\n",
              "      background-color: #E8F0FE;\n",
              "      border: none;\n",
              "      border-radius: 50%;\n",
              "      cursor: pointer;\n",
              "      display: none;\n",
              "      fill: #1967D2;\n",
              "      height: 32px;\n",
              "      padding: 0 0 0 0;\n",
              "      width: 32px;\n",
              "    }\n",
              "\n",
              "    .colab-df-convert:hover {\n",
              "      background-color: #E2EBFA;\n",
              "      box-shadow: 0px 1px 2px rgba(60, 64, 67, 0.3), 0px 1px 3px 1px rgba(60, 64, 67, 0.15);\n",
              "      fill: #174EA6;\n",
              "    }\n",
              "\n",
              "    [theme=dark] .colab-df-convert {\n",
              "      background-color: #3B4455;\n",
              "      fill: #D2E3FC;\n",
              "    }\n",
              "\n",
              "    [theme=dark] .colab-df-convert:hover {\n",
              "      background-color: #434B5C;\n",
              "      box-shadow: 0px 1px 3px 1px rgba(0, 0, 0, 0.15);\n",
              "      filter: drop-shadow(0px 1px 2px rgba(0, 0, 0, 0.3));\n",
              "      fill: #FFFFFF;\n",
              "    }\n",
              "  </style>\n",
              "\n",
              "      <script>\n",
              "        const buttonEl =\n",
              "          document.querySelector('#df-36961daa-8e65-4f08-b5b4-9607d13f45bc button.colab-df-convert');\n",
              "        buttonEl.style.display =\n",
              "          google.colab.kernel.accessAllowed ? 'block' : 'none';\n",
              "\n",
              "        async function convertToInteractive(key) {\n",
              "          const element = document.querySelector('#df-36961daa-8e65-4f08-b5b4-9607d13f45bc');\n",
              "          const dataTable =\n",
              "            await google.colab.kernel.invokeFunction('convertToInteractive',\n",
              "                                                     [key], {});\n",
              "          if (!dataTable) return;\n",
              "\n",
              "          const docLinkHtml = 'Like what you see? Visit the ' +\n",
              "            '<a target=\"_blank\" href=https://colab.research.google.com/notebooks/data_table.ipynb>data table notebook</a>'\n",
              "            + ' to learn more about interactive tables.';\n",
              "          element.innerHTML = '';\n",
              "          dataTable['output_type'] = 'display_data';\n",
              "          await google.colab.output.renderOutput(dataTable, element);\n",
              "          const docLink = document.createElement('div');\n",
              "          docLink.innerHTML = docLinkHtml;\n",
              "          element.appendChild(docLink);\n",
              "        }\n",
              "      </script>\n",
              "    </div>\n",
              "  </div>\n",
              "  "
            ]
          },
          "metadata": {},
          "execution_count": 433
        }
      ]
    },
    {
      "cell_type": "code",
      "source": [
        "#df_final[['Total kWh','App_Pred']].plot()\n",
        "\n",
        "df_final[['EndDateTime','App_Pred']].plot()"
      ],
      "metadata": {
        "colab": {
          "base_uri": "https://localhost:8080/",
          "height": 511
        },
        "id": "yJ-AVlmncoss",
        "outputId": "f7241486-e3e9-41c3-e37e-3bb633e77740"
      },
      "execution_count": 439,
      "outputs": [
        {
          "output_type": "execute_result",
          "data": {
            "text/plain": [
              "<matplotlib.axes._subplots.AxesSubplot at 0x7fc9dd512a10>"
            ]
          },
          "metadata": {},
          "execution_count": 439
        },
        {
          "output_type": "display_data",
          "data": {
            "text/plain": [
              "<Figure size 720x576 with 1 Axes>"
            ],
            "image/png": "[encoded data removed]"
          },
          "metadata": {
            "needs_background": "light"
          }
        }
      ]
    },
    {
      "cell_type": "code",
      "source": [
        "# categorical_cols = ['Site', 'Model'] \n",
        "\n",
        "# from sklearn.preprocessing import LabelEncoder\n",
        "# # instantiate labelencoder object\n",
        "# le = LabelEncoder()\n",
        "\n",
        "# # apply le on categorical feature columns\n",
        "# df1[categorical_cols] = df1[categorical_cols].apply(lambda col: le.fit_transform(col))    \n",
        "# from sklearn.preprocessing import OneHotEncoder\n",
        "# ohe = OneHotEncoder()\n",
        "\n",
        "# #One-hot-encode the categorical columns.\n",
        "# #Unfortunately outputs an array instead of dataframe.\n",
        "# array_hot_encoded = ohe.fit_transform(df1[categorical_cols])\n",
        "\n",
        "# #Convert it to df\n",
        "# data_hot_encoded = pd.DataFrame(array_hot_encoded, index=df1.index)\n",
        "\n",
        "# #Extract only the columns that didnt need to be encoded\n",
        "# data_other_cols = df1.drop(columns=categorical_cols)\n",
        "\n",
        "# #Concatenate the two dataframes : \n",
        "# df2 = pd.concat([data_hot_encoded, data_other_cols], axis=1)"
      ],
      "metadata": {
        "id": "bCn_UvLoQFrL"
      },
      "execution_count": 435,
      "outputs": []
    },
    {
      "cell_type": "code",
      "source": [
        "# df2"
      ],
      "metadata": {
        "id": "CDn0DzxaQXAE"
      },
      "execution_count": 436,
      "outputs": []
    },
    {
      "cell_type": "code",
      "source": [
        "# df2.dtypes"
      ],
      "metadata": {
        "id": "s_D_5I9oQ-1K"
      },
      "execution_count": 437,
      "outputs": []
    },
    {
      "cell_type": "markdown",
      "source": [
        ""
      ],
      "metadata": {
        "id": "MNAUMnZmCcNL"
      }
    },
    {
      "cell_type": "markdown",
      "source": [
        ""
      ],
      "metadata": {
        "id": "8zzph_DiCcK9"
      }
    },
    {
      "cell_type": "markdown",
      "source": [
        ""
      ],
      "metadata": {
        "id": "hy1OcWRCCcIM"
      }
    },
    {
      "cell_type": "markdown",
      "source": [
        ""
      ],
      "metadata": {
        "id": "7oh0TkrsCcFk"
      }
    },
    {
      "cell_type": "markdown",
      "source": [
        ""
      ],
      "metadata": {
        "id": "MAiZ-dGQCcA3"
      }
    }
  ],
  "metadata": {
    "colab": {
      "collapsed_sections": [],
      "name": "Welcome To Colaboratory",
      "provenance": [],
      "include_colab_link": true
    },
    "kernelspec": {
      "display_name": "Python 3",
      "name": "python3"
    },
    "accelerator": "GPU"
  },
  "nbformat": 4,
  "nbformat_minor": 0
}